{
 "cells": [
  {
   "cell_type": "markdown",
   "metadata": {},
   "source": [
    "# <center>Jupyter Notebook Tips and Tricks</center>\n",
    "\n",
    "![alt text](img/tipcstricks.png \"Title\")\n",
    "\n",
    "**In this tutorial we will cover some neat Jupyter notebook tips and tricks I have learned over the years. These will include:**\n",
    "\n",
    "* Creating hyperlinks to other cells within the notebook\n",
    "* Embedding images directly in a cell\n",
    "* Creating and embedding GIF's directly in a cell\n",
    "* Inserting Python code in a markdown cell\n",
    "* Using magic functions to autoload imports that change"
   ]
  },
  {
   "cell_type": "markdown",
   "metadata": {},
   "source": [
    "<a id='hyperlink'></a>\n",
    "## <center>Creating hyperlinks to other notebook cells</center>\n",
    "\n",
    "Creating hyperlinks to other cells is easy in Jupyter Notebook. Simply create text or a bulleted list as a table of contents that you want to link to. For us, we will use the table of contents outlined above:\n",
    "\n",
    "* [Creating hyperlinks to other cells within the notebook](#hyperlink) \n",
    "* [Embedding images directly in a cell](#images)\n",
    "* [Creating and embedding GIF's directly in a cell](#GIF)\n",
    "* [Inserting Python code in a markdown cell](#code)\n",
    "* [Using magic functions to autoload imports that change](#magic)"
   ]
  },
  {
   "cell_type": "markdown",
   "metadata": {},
   "source": [
    "<a id='images'></a>\n",
    "## <center> Embedding Images </center>\n",
    "\n",
    "Embedding images is quite straightforward. All we need to do is download the images to a directory, then specify that path following a special syntax. For instance, to display an image to one of my favorite text analytics images (word2vec model architecture) all we have to do is:\n",
    "\n",
    "![word2vec](img/word2vec.png)\n",
    "\n",
    "```markdown\n",
    "To load the image above, we simply use this syntax: exclamation point followed by brackets, a nickname for the image, and then in parenthesis the path to the image:\n",
    "\n",
    "![word2vec](img/word2vec.png)\n",
    "\n",
    "Now the second image isn't rendering in the cell because I am using a special notation to embed markdown code into the cell as well, which we will review later.\n",
    "```"
   ]
  },
  {
   "cell_type": "markdown",
   "metadata": {},
   "source": [
    "<a id='GIF'></a>\n",
    "## <center> Embedding GIF's </center>\n",
    "\n",
    "We can embed GIF's in the same way as images as well:\n",
    "\n",
    "![GIF](img/savetheday.gif)\n",
    "\n",
    "Now while a funny GIF isn't that practical, what is practical is making a GIF of a tutorial or similar and inserting it into your readme file for a package or tutorial. To do this, we can use software like [screentogif](http://www.screentogif.com/), record a screen capture scrolling through your tutorial, and then embed the GIF just like we would embed images and the previous GIF. At the end of the day, it makes your tutorials and readme documents look professional.\n",
    "\n",
    "![TUTORIALGIF](img/tutorialgif.gif)"
   ]
  },
  {
   "cell_type": "markdown",
   "metadata": {},
   "source": [
    "<a id='code'></a>\n",
    "## <center> Embedding Code </center>\n",
    "\n",
    "Embedding code into a notebook cell is quite easy using the special syntax. All you really need to know is the name of your programming language and three backticks. The syntax looks like:\n",
    "\n",
    "```markdown\n",
    "\n",
    "```python\n",
    "#insert your code here\n",
    "world = 'hello world!'\n",
    "print(world)\n",
    "#close out the code block with three more back ticks\n",
    "```\n",
    "```"
   ]
  },
  {
   "cell_type": "markdown",
   "metadata": {},
   "source": [
    "And will render in the cell like so:\n",
    "\n",
    "```python\n",
    "# insert your code here\n",
    "world = 'hello world!'\n",
    "print(world)\n",
    "```\n",
    "\n",
    "Which ends up looking very sharp! "
   ]
  },
  {
   "cell_type": "markdown",
   "metadata": {},
   "source": [
    "<a id='magic'></a>\n",
    "## <center> Magic Autoreload Function </center>\n",
    "\n",
    "This is one of my favorite tricks in Jupyter Notebooks. Often times to keep things clean in a tutorial or workflow, you will want to offshore your utility functions to a separate file and then import those into your main script. This reduces how long your notebooks are, and makes things look much cleaner. However, if you want to update your utility function in the separate file, you would need to restart the kernal for the changes to take affect. This is tedious!!!\n",
    "\n",
    "In comes magic functions, specifically the %autoreload one. This makes it so you don't have to do this tedious task. "
   ]
  },
  {
   "cell_type": "code",
   "execution_count": 23,
   "metadata": {},
   "outputs": [
    {
     "name": "stdout",
     "output_type": "stream",
     "text": [
      "The autoreload extension is already loaded. To reload it, use:\n",
      "  %reload_ext autoreload\n"
     ]
    }
   ],
   "source": [
    "%load_ext autoreload\n",
    "\n",
    "%autoreload 2\n",
    "\n",
    "from utils import multiply_num"
   ]
  },
  {
   "cell_type": "code",
   "execution_count": 24,
   "metadata": {},
   "outputs": [
    {
     "data": {
      "text/plain": [
       "40"
      ]
     },
     "execution_count": 24,
     "metadata": {},
     "output_type": "execute_result"
    }
   ],
   "source": [
    "multiply_num(5)"
   ]
  }
 ],
 "metadata": {
  "kernelspec": {
   "display_name": "Python 3",
   "language": "python",
   "name": "python3"
  },
  "language_info": {
   "codemirror_mode": {
    "name": "ipython",
    "version": 3
   },
   "file_extension": ".py",
   "mimetype": "text/x-python",
   "name": "python",
   "nbconvert_exporter": "python",
   "pygments_lexer": "ipython3",
   "version": "3.6.3"
  }
 },
 "nbformat": 4,
 "nbformat_minor": 2
}
