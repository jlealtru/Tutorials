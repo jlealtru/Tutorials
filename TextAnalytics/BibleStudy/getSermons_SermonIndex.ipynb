{
 "cells": [
  {
   "cell_type": "code",
   "execution_count": 1,
   "metadata": {
    "collapsed": true
   },
   "outputs": [],
   "source": [
    "from bs4 import BeautifulSoup\n",
    "import requests\n",
    "import pandas as pd"
   ]
  },
  {
   "cell_type": "code",
   "execution_count": 21,
   "metadata": {
    "collapsed": true
   },
   "outputs": [],
   "source": [
    "# base article url\n",
    "base_article = 'http://www.sermonindex.net/modules/articles/'"
   ]
  },
  {
   "cell_type": "code",
   "execution_count": 2,
   "metadata": {
    "collapsed": true
   },
   "outputs": [],
   "source": [
    "def create_soup(url):\n",
    "    headers = {'User-Agent': 'Mozilla/5.0 (Macintosh; Intel Mac OS X 10_10_1) AppleWebKit/537.36 (KHTML, like Gecko) Chrome/39.0.2171.95 Safari/537.36'}\n",
    "    soup = BeautifulSoup(requests.get(url, headers=headers).content, 'html.parser')\n",
    "    return soup\n",
    "\n",
    "url = 'http://www.sermonindex.net/modules/articles/'\n",
    "\n",
    "soup = create_soup(url)"
   ]
  },
  {
   "cell_type": "code",
   "execution_count": 5,
   "metadata": {},
   "outputs": [
    {
     "data": {
      "text/plain": [
       "[<td width=\"15\"> </td>, <td valign=\"top\">\n",
       " <table><td>\n",
       " <a href=\"index.php?view=category&amp;cid=506\"><img src=\"http://img.sermonindex.net/sermonindex1/cat.gif\"/></a>\n",
       " </td>\n",
       " <td valign=\"top\">\n",
       " <b><a href=\"index.php?view=category&amp;cid=506\">\n",
       " \t\tA Collection of Hymns</a></b></td></table></td>, <td>\n",
       " <a href=\"index.php?view=category&amp;cid=506\"><img src=\"http://img.sermonindex.net/sermonindex1/cat.gif\"/></a>\n",
       " </td>, <td valign=\"top\">\n",
       " <b><a href=\"index.php?view=category&amp;cid=506\">\n",
       " \t\tA Collection of Hymns</a></b></td>]"
      ]
     },
     "execution_count": 5,
     "metadata": {},
     "output_type": "execute_result"
    }
   ],
   "source": [
    "soup.find('table', {'bgcolor': '#B6C7BE'}).findNext('table').findAll('td')"
   ]
  },
  {
   "cell_type": "code",
   "execution_count": 19,
   "metadata": {},
   "outputs": [],
   "source": [
    "import re\n",
    "table = soup.find('table', {'bgcolor': '#B6C7BE'})\n",
    "serm = table.findAllNext('a', href=re.compile('index.php'))\n",
    "\n",
    "sermon_next_links = [a['href'] for a in serm]"
   ]
  },
  {
   "cell_type": "code",
   "execution_count": 22,
   "metadata": {},
   "outputs": [
    {
     "data": {
      "text/plain": [
       "'index.php?view=category&cid=506'"
      ]
     },
     "execution_count": 22,
     "metadata": {},
     "output_type": "execute_result"
    }
   ],
   "source": [
    "sermon_next_links[0]"
   ]
  },
  {
   "cell_type": "code",
   "execution_count": 30,
   "metadata": {},
   "outputs": [],
   "source": [
    "import urllib.parse as urlparse"
   ]
  },
  {
   "cell_type": "code",
   "execution_count": 34,
   "metadata": {},
   "outputs": [],
   "source": [
    "article_url = urlparse.urljoin(base_article, sermon_next_links[0])"
   ]
  },
  {
   "cell_type": "code",
   "execution_count": 35,
   "metadata": {
    "collapsed": true
   },
   "outputs": [],
   "source": [
    "soup = create_soup(article_url)"
   ]
  },
  {
   "cell_type": "code",
   "execution_count": 36,
   "metadata": {},
   "outputs": [
    {
     "data": {
      "text/plain": [
       "'http://www.sermonindex.net/modules/articles/index.php?view=category&cid=506'"
      ]
     },
     "execution_count": 36,
     "metadata": {},
     "output_type": "execute_result"
    }
   ],
   "source": [
    "article_url"
   ]
  },
  {
   "cell_type": "code",
   "execution_count": 42,
   "metadata": {},
   "outputs": [],
   "source": [
    "def parse_article_link(article_soup):\n",
    "    article_url = article_soup.find('a')['href']\n",
    "    article_title = article_soup.find('a').text.strip()\n",
    "    return (article_url, article_title)\n",
    "\n",
    "\n",
    "article_table = soup.find('table', {'width': '100%'})\n",
    "all_articles = [parse_article_link(art) for art in article_table.findAll('strong')]"
   ]
  },
  {
   "cell_type": "code",
   "execution_count": 43,
   "metadata": {},
   "outputs": [
    {
     "data": {
      "text/plain": [
       "('index.php?view=article&aid=8084', 'COME, thou Conqueror of the nations,')"
      ]
     },
     "execution_count": 43,
     "metadata": {},
     "output_type": "execute_result"
    }
   ],
   "source": [
    "all_articles[0]"
   ]
  },
  {
   "cell_type": "code",
   "execution_count": 67,
   "metadata": {},
   "outputs": [
    {
     "ename": "SyntaxError",
     "evalue": "invalid syntax (<ipython-input-67-0f168811cfdb>, line 17)",
     "output_type": "error",
     "traceback": [
      "\u001b[0;36m  File \u001b[0;32m\"<ipython-input-67-0f168811cfdb>\"\u001b[0;36m, line \u001b[0;32m17\u001b[0m\n\u001b[0;31m    else\u001b[0m\n\u001b[0m        ^\u001b[0m\n\u001b[0;31mSyntaxError\u001b[0m\u001b[0;31m:\u001b[0m invalid syntax\n"
     ]
    }
   ],
   "source": [
    "def parse_next_page(soup):\n",
    "    next_pages = soup.findAll('center')[-2]\n",
    "    # get all next page links\n",
    "    all_next_page_links = [a['href'] for a in next_pages.findAll('a')]\n",
    "    # get previous next page if available\n",
    "    previous_page_link = next_pages.find('a', text=re.compile('Previous'))\n",
    "    if isinstance(previous_page_link, dict):\n",
    "        previous_page_link = previous_page_link.get('href')\n",
    "    if previous_page_link:\n",
    "        # there is the 0 index for the previous page and the actual previous page link\n",
    "        # we need the actual previous page index and increment it by 1 to get the next page\n",
    "        cur_page_index = [index for index, l_item in enumerate(all_next_page_links) \n",
    "                          if l_item == previous_page_link][-1]\n",
    "        \n",
    "        next_page_index = cur_page_index + 1\n",
    "\n",
    "        if next_page_index >= len(all_next_page_links):\n",
    "            next_page_url = None\n",
    "        else:\n",
    "            next_page_url = all_next_page_links[next_page_index]\n",
    "    else:\n",
    "        next_page_url = all_next_page_links[0]\n",
    "    "
   ]
  },
  {
   "cell_type": "code",
   "execution_count": 81,
   "metadata": {
    "collapsed": true
   },
   "outputs": [],
   "source": [
    "# soup = create_soup('http://www.sermonindex.net/modules/articles/index.php?view=category&cid=506&page=2')\n",
    "soup = create_soup('http://www.sermonindex.net/modules/articles/index.php?view=category&cid=506&page=0')"
   ]
  },
  {
   "cell_type": "code",
   "execution_count": 73,
   "metadata": {},
   "outputs": [],
   "source": [
    "next_pages = soup.findAll('center')[-2]\n",
    "previous_page_link = next_pages.find('a', text=re.compile('Previous'))\n",
    "if isinstance(previous_page_link, dict):\n",
    "    link = previous_page_link.get('href')"
   ]
  },
  {
   "cell_type": "code",
   "execution_count": 82,
   "metadata": {},
   "outputs": [
    {
     "data": {
      "text/plain": [
       "'index.php?view=category&cid=506&page=1'"
      ]
     },
     "execution_count": 82,
     "metadata": {},
     "output_type": "execute_result"
    }
   ],
   "source": [
    "next_pages.find('a', text=re.compile('Previous')).get('href')"
   ]
  },
  {
   "cell_type": "code",
   "execution_count": null,
   "metadata": {
    "collapsed": true
   },
   "outputs": [],
   "source": []
  },
  {
   "cell_type": "code",
   "execution_count": 53,
   "metadata": {
    "collapsed": true
   },
   "outputs": [],
   "source": [
    "all_next_page_links = [a['href'] for a in next_pages.findAll('a')]"
   ]
  },
  {
   "cell_type": "code",
   "execution_count": 59,
   "metadata": {},
   "outputs": [
    {
     "data": {
      "text/plain": [
       "30"
      ]
     },
     "execution_count": 59,
     "metadata": {},
     "output_type": "execute_result"
    }
   ],
   "source": [
    "list(reversed(all_next_page_links)).index(previous_page_link)"
   ]
  },
  {
   "cell_type": "code",
   "execution_count": 66,
   "metadata": {},
   "outputs": [],
   "source": [
    "# there is the 0 index for the previous page and the actual previous page link\n",
    "# we need the actual previous page index and increment it by 1 to get the next page\n",
    "cur_page_index = [index for index, l_item in enumerate(all_next_page_links) \n",
    "                  if l_item == previous_page_link][-1]"
   ]
  },
  {
   "cell_type": "code",
   "execution_count": 65,
   "metadata": {},
   "outputs": [
    {
     "data": {
      "text/plain": [
       "3"
      ]
     },
     "execution_count": 65,
     "metadata": {},
     "output_type": "execute_result"
    }
   ],
   "source": [
    "next_page_index = cur_page_index + 1\n",
    "\n",
    "if next_page_index >= len(all_next_page_links):\n",
    "    raise ValueError('Exhausted next pages')"
   ]
  },
  {
   "cell_type": "code",
   "execution_count": null,
   "metadata": {
    "collapsed": true
   },
   "outputs": [],
   "source": []
  }
 ],
 "metadata": {
  "kernelspec": {
   "display_name": "Python 3",
   "language": "python",
   "name": "python3"
  },
  "language_info": {
   "codemirror_mode": {
    "name": "ipython",
    "version": 3
   },
   "file_extension": ".py",
   "mimetype": "text/x-python",
   "name": "python",
   "nbconvert_exporter": "python",
   "pygments_lexer": "ipython3",
   "version": "3.6.3"
  }
 },
 "nbformat": 4,
 "nbformat_minor": 2
}
