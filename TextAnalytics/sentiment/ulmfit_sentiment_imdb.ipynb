{
 "cells": [
  {
   "cell_type": "code",
   "execution_count": 1,
   "metadata": {},
   "outputs": [],
   "source": [
    "%reload_ext autoreload\n",
    "%autoreload 2\n",
    "%matplotlib inline"
   ]
  },
  {
   "cell_type": "code",
   "execution_count": 5,
   "metadata": {},
   "outputs": [],
   "source": [
    "from fastai import *\n",
    "from fastai.text import *\n",
    "import pandas as pd"
   ]
  },
  {
   "cell_type": "code",
   "execution_count": 3,
   "metadata": {},
   "outputs": [
    {
     "data": {
      "text/plain": [
       "[PosixPath('/home/datawrestler/.fastai/data/imdb_sample/texts.csv')]"
      ]
     },
     "execution_count": 3,
     "metadata": {},
     "output_type": "execute_result"
    }
   ],
   "source": [
    "path = untar_data(URLs.IMDB_SAMPLE)\n",
    "path.ls()"
   ]
  },
  {
   "cell_type": "code",
   "execution_count": 6,
   "metadata": {},
   "outputs": [],
   "source": [
    "df = pd.read_csv(path/'texts.csv')"
   ]
  },
  {
   "cell_type": "code",
   "execution_count": 9,
   "metadata": {},
   "outputs": [],
   "source": [
    "data_lm = TextDataBunch.from_csv(path, 'texts.csv')"
   ]
  },
  {
   "cell_type": "code",
   "execution_count": 10,
   "metadata": {},
   "outputs": [
    {
     "name": "stdout",
     "output_type": "stream",
     "text": [
      "Help on class TextDataBunch in module fastai.text.data:\n",
      "\n",
      "class TextDataBunch(fastai.basic_data.DataBunch)\n",
      " |  General class to get a `DataBunch` for NLP. Subclassed by `TextLMDataBunch` and `TextClasDataBunch`.\n",
      " |  \n",
      " |  Method resolution order:\n",
      " |      TextDataBunch\n",
      " |      fastai.basic_data.DataBunch\n",
      " |      builtins.object\n",
      " |  \n",
      " |  Methods defined here:\n",
      " |  \n",
      " |  save(self, cache_name:Union[pathlib.Path, str]='tmp')\n",
      " |      Save the `DataBunch` in `self.path/cache_name` folder.\n",
      " |  \n",
      " |  ----------------------------------------------------------------------\n",
      " |  Class methods defined here:\n",
      " |  \n",
      " |  from_csv(path:Union[pathlib.Path, str], csv_name, valid_pct:float=0.2, test:Union[str, NoneType]=None, tokenizer:fastai.text.transform.Tokenizer=None, vocab:fastai.text.transform.Vocab=None, classes:Collection[str]=None, header='infer', text_cols:Union[int, Collection[int], str, Collection[str]]=1, label_cols:Union[int, Collection[int], str, Collection[str]]=0, label_delim:str=None, **kwargs) -> fastai.basic_data.DataBunch from builtins.type\n",
      " |      Create a `TextDataBunch` from texts in csv files.\n",
      " |  \n",
      " |  from_df(path:Union[pathlib.Path, str], train_df:pandas.core.frame.DataFrame, valid_df:pandas.core.frame.DataFrame, test_df:Union[pandas.core.frame.DataFrame, NoneType]=None, tokenizer:fastai.text.transform.Tokenizer=None, vocab:fastai.text.transform.Vocab=None, classes:Collection[str]=None, text_cols:Union[int, Collection[int], str, Collection[str]]=1, label_cols:Union[int, Collection[int], str, Collection[str]]=0, label_delim:str=None, **kwargs) -> fastai.basic_data.DataBunch from builtins.type\n",
      " |      Create a `TextDataBunch` from DataFrames.\n",
      " |  \n",
      " |  from_folder(path:Union[pathlib.Path, str], train:str='train', valid:str='valid', test:Union[str, NoneType]=None, classes:Collection[Any]=None, tokenizer:fastai.text.transform.Tokenizer=None, vocab:fastai.text.transform.Vocab=None, **kwargs) from builtins.type\n",
      " |      Create a `TextDataBunch` from text files in folders.\n",
      " |  \n",
      " |  from_ids(path:Union[pathlib.Path, str], vocab:fastai.text.transform.Vocab, train_ids:Collection[Collection[int]], valid_ids:Collection[Collection[int]], test_ids:Collection[Collection[int]]=None, train_lbls:Collection[Union[int, float]]=None, valid_lbls:Collection[Union[int, float]]=None, classes:Collection[Any]=None, processor:fastai.data_block.PreProcessor=None, **kwargs) -> fastai.basic_data.DataBunch from builtins.type\n",
      " |      Create a `TextDataBunch` from ids, labels and a `vocab`.\n",
      " |  \n",
      " |  from_tokens(path:Union[pathlib.Path, str], trn_tok:Collection[Collection[str]], trn_lbls:Collection[Union[int, float]], val_tok:Collection[Collection[str]], val_lbls:Collection[Union[int, float]], vocab:fastai.text.transform.Vocab=None, tst_tok:Collection[Collection[str]]=None, classes:Collection[Any]=None, **kwargs) -> fastai.basic_data.DataBunch from builtins.type\n",
      " |      Create a `TextDataBunch` from tokens and labels.\n",
      " |  \n",
      " |  load(path:Union[pathlib.Path, str], cache_name:Union[pathlib.Path, str]='tmp', processor:fastai.data_block.PreProcessor=None, **kwargs) from builtins.type\n",
      " |      Load a `TextDataBunch` from `path/cache_name`. `kwargs` are passed to the dataloader creation.\n",
      " |  \n",
      " |  ----------------------------------------------------------------------\n",
      " |  Methods inherited from fastai.basic_data.DataBunch:\n",
      " |  \n",
      " |  __getattr__(self, k:int) -> Any\n",
      " |  \n",
      " |  __init__(self, train_dl:torch.utils.data.dataloader.DataLoader, valid_dl:torch.utils.data.dataloader.DataLoader, fix_dl:torch.utils.data.dataloader.DataLoader=None, test_dl:Union[torch.utils.data.dataloader.DataLoader, NoneType]=None, device:torch.device=None, dl_tfms:Union[Collection[Callable], NoneType]=None, path:Union[pathlib.Path, str]='.', collate_fn:Callable=<function data_collate at 0x7f2677b48bf8>, no_check:bool=False)\n",
      " |      Initialize self.  See help(type(self)) for accurate signature.\n",
      " |  \n",
      " |  __repr__(self) -> str\n",
      " |      Return repr(self).\n",
      " |  \n",
      " |  add_tfm(self, tfm:Callable) -> None\n",
      " |  \n",
      " |  dl(self, ds_type:fastai.basic_data.DatasetType=<DatasetType.Valid: 2>) -> fastai.basic_data.DeviceDataLoader\n",
      " |      Returns appropriate `Dataset` for validation, training, or test (`ds_type`).\n",
      " |  \n",
      " |  export(self, fname:str='export.pkl')\n",
      " |      Export the minimal state of `self` for inference in `self.path/fname`.\n",
      " |  \n",
      " |  one_batch(self, ds_type:fastai.basic_data.DatasetType=<DatasetType.Train: 1>, detach:bool=True, denorm:bool=True, cpu:bool=True) -> Collection[torch.Tensor]\n",
      " |      Get one batch from the data loader of `ds_type`. Optionally `detach` and `denorm`.\n",
      " |  \n",
      " |  one_item(self, item, detach:bool=False, denorm:bool=False, cpu:bool=False)\n",
      " |      Get `item` into a batch. Optionally `detach` and `denorm`.\n",
      " |  \n",
      " |  sanity_check(self)\n",
      " |      Check the underlying data in the training set can be properly loaded.\n",
      " |  \n",
      " |  show_batch(self, rows:int=5, ds_type:fastai.basic_data.DatasetType=<DatasetType.Train: 1>, **kwargs) -> None\n",
      " |      Show a batch of data in `ds_type` on a few `rows`.\n",
      " |  \n",
      " |  ----------------------------------------------------------------------\n",
      " |  Class methods inherited from fastai.basic_data.DataBunch:\n",
      " |  \n",
      " |  create(train_ds:torch.utils.data.dataset.Dataset, valid_ds:torch.utils.data.dataset.Dataset, test_ds:Union[torch.utils.data.dataset.Dataset, NoneType]=None, path:Union[pathlib.Path, str]='.', bs:int=64, num_workers:int=16, dl_tfms:Union[Collection[Callable], NoneType]=None, device:torch.device=None, collate_fn:Callable=<function data_collate at 0x7f2677b48bf8>, no_check:bool=False) -> 'DataBunch' from builtins.type\n",
      " |      Create a `DataBunch` from `train_ds`, `valid_ds` and maybe `test_ds` with a batch size of `bs`.\n",
      " |  \n",
      " |  load_empty = _databunch_load_empty(path, fname:str='export.pkl') from builtins.type\n",
      " |      Load an empty `DataBunch` from the exported file in `path/fname` with optional `tfms`.\n",
      " |  \n",
      " |  ----------------------------------------------------------------------\n",
      " |  Data descriptors inherited from fastai.basic_data.DataBunch:\n",
      " |  \n",
      " |  __dict__\n",
      " |      dictionary for instance variables (if defined)\n",
      " |  \n",
      " |  __weakref__\n",
      " |      list of weak references to the object (if defined)\n",
      " |  \n",
      " |  batch_size\n",
      " |  \n",
      " |  dls\n",
      " |  \n",
      " |  empty_val\n",
      " |  \n",
      " |  loss_func\n",
      " |  \n",
      " |  single_ds\n",
      " |  \n",
      " |  test_ds\n",
      " |  \n",
      " |  train_ds\n",
      " |  \n",
      " |  valid_ds\n",
      "\n"
     ]
    }
   ],
   "source": [
    "help(TextDataBunch)"
   ]
  },
  {
   "cell_type": "code",
   "execution_count": 12,
   "metadata": {},
   "outputs": [],
   "source": [
    "data_lm.save()"
   ]
  },
  {
   "cell_type": "code",
   "execution_count": 13,
   "metadata": {},
   "outputs": [
    {
     "data": {
      "text/html": [
       "<table>  <col width='90%'>  <col width='10%'>  <tr>\n",
       "    <th>text</th>\n",
       "    <th>target</th>\n",
       "  </tr>\n",
       "  <tr>\n",
       "    <th>xxbos xxup the xxup shop xxup around xxup the xxup corner is one of the xxunk and most feel - good romantic comedies ever made . xxmaj there 's just no getting around that , and it 's hard to actually put one 's feeling for this film into words . xxmaj it 's not one of those films that tries too hard , nor does it come up with</th>\n",
       "    <th>positive</th>\n",
       "  </tr>\n",
       "  <tr>\n",
       "    <th>xxbos xxmaj now that xxmaj che(2008 ) has finished its relatively short xxmaj australian cinema run ( extremely limited xxunk screen in xxmaj xxunk , after xxunk ) , i can xxunk join both xxunk of \" xxmaj at xxmaj the xxmaj movies \" in taking xxmaj steven xxmaj soderbergh to task . \\n\\n xxmaj it 's usually satisfying to watch a film director change his style / subject ,</th>\n",
       "    <th>negative</th>\n",
       "  </tr>\n",
       "  <tr>\n",
       "    <th>xxbos i really wanted to love this show . i truly , honestly did . \\n\\n xxmaj for the first time , gay viewers get their own version of the \" xxmaj the xxmaj xxunk \" . xxmaj with the help of his obligatory \" hag \" xxmaj xxunk , xxmaj james , a good looking , well - to - do thirty - something has the chance of love</th>\n",
       "    <th>negative</th>\n",
       "  </tr>\n",
       "  <tr>\n",
       "    <th>xxbos \\n\\n i 'm sure things did n't exactly go the same way in the real life of xxmaj homer xxmaj hickam as they did in the film adaptation of his book , xxmaj rocket xxmaj boys , but the movie \" xxmaj october xxmaj sky \" ( an xxunk of the book 's title ) is good enough to stand alone . i have not read xxmaj hickam 's</th>\n",
       "    <th>positive</th>\n",
       "  </tr>\n",
       "  <tr>\n",
       "    <th>xxbos xxmaj to review this movie , i without any doubt would have to quote that memorable scene in xxmaj tarantino 's \" xxmaj pulp xxmaj fiction \" ( xxunk ) when xxmaj jules and xxmaj vincent are talking about xxmaj mia xxmaj wallace and what she does for a living . xxmaj jules tells xxmaj vincent that the \" xxmaj only thing she did worthwhile was pilot \" .</th>\n",
       "    <th>negative</th>\n",
       "  </tr>\n",
       "</table>\n"
      ],
      "text/plain": [
       "<IPython.core.display.HTML object>"
      ]
     },
     "metadata": {},
     "output_type": "display_data"
    }
   ],
   "source": [
    "# tokenization\n",
    "data = TextClasDataBunch.load(path)\n",
    "data.show_batch()"
   ]
  },
  {
   "cell_type": "code",
   "execution_count": 14,
   "metadata": {},
   "outputs": [
    {
     "data": {
      "text/plain": [
       "['xxunk',\n",
       " 'xxpad',\n",
       " 'xxbos',\n",
       " 'xxfld',\n",
       " 'xxmaj',\n",
       " 'xxup',\n",
       " 'xxrep',\n",
       " 'xxwrep',\n",
       " 'the',\n",
       " ',']"
      ]
     },
     "execution_count": 14,
     "metadata": {},
     "output_type": "execute_result"
    }
   ],
   "source": [
    "# numericalization\n",
    "data.vocab.itos[:10]"
   ]
  },
  {
   "cell_type": "code",
   "execution_count": 19,
   "metadata": {},
   "outputs": [
    {
     "data": {
      "text/plain": [
       "Text xxbos xxmaj this was an excellent xxunk episode , although i had never been seen the older ones , i never thought the doctor would go up against anything that is xxunk , extra xxunk of course but not xxunk . \n",
       "\n",
       " xxmaj this episode brings the things that we most fear and how would we humans , in a futuristic time , would fight and defeat real live evil when most odds say that would be impossible . \n",
       "\n",
       " xxmaj being that it 's a family film i am surprised that they brought some stuff in like fear and faith , especially if its also going to entertain xxmaj american audiences . xxmaj but who care about what xxmaj xxunk say , we rock ! xxmaj doctor xxmaj who has shown potential ever since from episode one from the new series in 2005 , first being so harmless to scary , from fun to serious , from light to darkness . i hope many old fans will one day soon say \" xxmaj the old xxmaj doctor xxmaj who has returned \" . \n",
       "\n",
       " 10 out of 10"
      ]
     },
     "execution_count": 19,
     "metadata": {},
     "output_type": "execute_result"
    }
   ],
   "source": [
    "# tokens\n",
    "data.train_ds[0][0]"
   ]
  },
  {
   "cell_type": "code",
   "execution_count": 20,
   "metadata": {},
   "outputs": [
    {
     "data": {
      "text/plain": [
       "array([  2,   4,  20,  25,  48, 483,   0, 387,   9, 280])"
      ]
     },
     "execution_count": 20,
     "metadata": {},
     "output_type": "execute_result"
    }
   ],
   "source": [
    "# numbers\n",
    "data.train_ds[0][0].data[:10]"
   ]
  },
  {
   "cell_type": "code",
   "execution_count": 22,
   "metadata": {},
   "outputs": [
    {
     "name": "stdout",
     "output_type": "stream",
     "text": [
      "Help on class TextList in module fastai.text.data:\n",
      "\n",
      "class TextList(fastai.data_block.ItemList)\n",
      " |  Basic `ItemList` for text data.\n",
      " |  \n",
      " |  Method resolution order:\n",
      " |      TextList\n",
      " |      fastai.data_block.ItemList\n",
      " |      builtins.object\n",
      " |  \n",
      " |  Methods defined here:\n",
      " |  \n",
      " |  __init__(self, items:Iterator, vocab:fastai.text.transform.Vocab=None, pad_idx:int=1, **kwargs)\n",
      " |      Initialize self.  See help(type(self)) for accurate signature.\n",
      " |  \n",
      " |  get(self, i)\n",
      " |      Subclass if you want to customize how to create item `i` from `self.items`.\n",
      " |  \n",
      " |  label_for_lm(self, **kwargs)\n",
      " |      A special labelling method for language models.\n",
      " |  \n",
      " |  reconstruct(self, t:torch.Tensor)\n",
      " |      Reconstuct one of the underlying item for its data `t`.\n",
      " |  \n",
      " |  show_xys(self, xs, ys, max_len:int=70) -> None\n",
      " |      Show the `xs` (inputs) and `ys` (targets). `max_len` is the maximum number of tokens displayed.\n",
      " |  \n",
      " |  show_xyzs(self, xs, ys, zs, max_len:int=70)\n",
      " |      Show `xs` (inputs), `ys` (targets) and `zs` (predictions). `max_len` is the maximum number of tokens displayed.\n",
      " |  \n",
      " |  ----------------------------------------------------------------------\n",
      " |  Class methods defined here:\n",
      " |  \n",
      " |  from_folder(path:Union[pathlib.Path, str]='.', extensions:Collection[str]={'.txt'}, vocab:fastai.text.transform.Vocab=None, processor:fastai.data_block.PreProcessor=None, **kwargs) -> 'TextList' from builtins.type\n",
      " |      Get the list of files in `path` that have a text suffix. `recurse` determines if we search subfolders.\n",
      " |  \n",
      " |  ----------------------------------------------------------------------\n",
      " |  Methods inherited from fastai.data_block.ItemList:\n",
      " |  \n",
      " |  __getitem__(self, idxs:int) -> Any\n",
      " |  \n",
      " |  __len__(self) -> int\n",
      " |  \n",
      " |  __post_init__(self)\n",
      " |  \n",
      " |  __repr__(self) -> str\n",
      " |      Return repr(self).\n",
      " |  \n",
      " |  analyze_pred(self, pred:torch.Tensor)\n",
      " |      Called on `pred` before `reconstruct` for additional preprocessing.\n",
      " |  \n",
      " |  filter_by_folder(self, include=None, exclude=None)\n",
      " |      Only keep filenames in `include` folder or reject the ones in `exclude`.\n",
      " |  \n",
      " |  filter_by_func(self, func:Callable) -> 'ItemList'\n",
      " |      Only keep elements for which `func` returns `True`.\n",
      " |  \n",
      " |  filter_by_rand(self, p:float, seed:int=None)\n",
      " |      Keep random sample of `items` with probability `p` and an optional `seed`.\n",
      " |  \n",
      " |  get_label_cls(self, labels, label_cls:Callable=None, label_delim:str=None, **kwargs)\n",
      " |      Return `label_cls` or guess one from the first element of `labels`.\n",
      " |  \n",
      " |  label_const(self, const:Any=0, **kwargs) -> 'LabelList'\n",
      " |      Label every item with `const`.\n",
      " |  \n",
      " |  label_empty(self)\n",
      " |      Label every item with an `EmptyLabel`.\n",
      " |  \n",
      " |  label_from_df(self, cols:Union[int, Collection[int], str, Collection[str]]=1, **kwargs)\n",
      " |      Label `self.items` from the values in `cols` in `self.xtra`.\n",
      " |  \n",
      " |  label_from_folder(self, **kwargs) -> 'LabelList'\n",
      " |      Give a label to each filename depending on its folder.\n",
      " |  \n",
      " |  label_from_func(self, func:Callable, **kwargs) -> 'LabelList'\n",
      " |      Apply `func` to every input to get its label.\n",
      " |  \n",
      " |  label_from_list(self, labels:Iterator, **kwargs) -> 'LabelList'\n",
      " |      Label `self.items` with `labels`.\n",
      " |  \n",
      " |  label_from_re(self, pat:str, full_path:bool=False, **kwargs) -> 'LabelList'\n",
      " |      Apply the re in `pat` to determine the label of every filename.  If `full_path`, search in the full name.\n",
      " |  \n",
      " |  new(self, items:Iterator, processor:fastai.data_block.PreProcessor=None, **kwargs) -> 'ItemList'\n",
      " |      Create a new `ItemList` from `items`, keeping the same attributes.\n",
      " |  \n",
      " |  no_split(self)\n",
      " |      Don't split the data and create an empty validation set.\n",
      " |  \n",
      " |  process(self, processor=None)\n",
      " |      Apply `processor` or `self.processor` to `self`.\n",
      " |  \n",
      " |  process_one(self, item, processor=None)\n",
      " |      Apply `processor` or `self.processor` to `item`.\n",
      " |  \n",
      " |  random_split_by_pct(self, valid_pct:float=0.2, seed:int=None) -> 'ItemLists'\n",
      " |      Split the items randomly by putting `valid_pct` in the validation set, optional `seed` can be passed.\n",
      " |  \n",
      " |  split_by_files(self, valid_names:'ItemList') -> 'ItemLists'\n",
      " |      Split the data by using the names in `valid_names` for validation.\n",
      " |  \n",
      " |  split_by_fname_file(self, fname:Union[pathlib.Path, str], path:Union[pathlib.Path, str]=None) -> 'ItemLists'\n",
      " |      Split the data by using the names in `fname` for the validation set. `path` will override `self.path`.\n",
      " |  \n",
      " |  split_by_folder(self, train:str='train', valid:str='valid') -> 'ItemLists'\n",
      " |      Split the data depending on the folder (`train` or `valid`) in which the filenames are.\n",
      " |  \n",
      " |  split_by_idx(self, valid_idx:Collection[int]) -> 'ItemLists'\n",
      " |      Split the data according to the indexes in `valid_idx`.\n",
      " |  \n",
      " |  split_by_idxs(self, train_idx, valid_idx)\n",
      " |      Split the data between `train_idx` and `valid_idx`.\n",
      " |  \n",
      " |  split_by_list(self, train, valid)\n",
      " |      Split the data between `train` and `valid`.\n",
      " |  \n",
      " |  split_by_valid_func(self, func:Callable) -> 'ItemLists'\n",
      " |      Split the data by result of `func` (which returns `True` for validation set).\n",
      " |  \n",
      " |  split_from_df(self, col:Union[int, Collection[int], str, Collection[str]]=2)\n",
      " |      Split the data from the `col` in the dataframe in `self.xtra`.\n",
      " |  \n",
      " |  to_text(self, fn:str)\n",
      " |      Save `self.items` to `fn` in `self.path`.\n",
      " |  \n",
      " |  use_partial_data(self, sample_pct:float=1.0, seed:int=None) -> 'ItemList'\n",
      " |      Use only a sample of `sample_pct`of the full dataset and an optional `seed`.\n",
      " |  \n",
      " |  ----------------------------------------------------------------------\n",
      " |  Class methods inherited from fastai.data_block.ItemList:\n",
      " |  \n",
      " |  from_csv(path:Union[pathlib.Path, str], csv_name:str, cols:Union[int, Collection[int], str, Collection[str]]=0, header:str='infer', **kwargs) -> 'ItemList' from builtins.type\n",
      " |      Create an `ItemList` in `path` from the inputs in the `cols` of `path/csv_name` opened with `header`.\n",
      " |  \n",
      " |  from_df(df:pandas.core.frame.DataFrame, path:Union[pathlib.Path, str]='.', cols:Union[int, Collection[int], str, Collection[str]]=0, **kwargs) -> 'ItemList' from builtins.type\n",
      " |      Create an `ItemList` in `path` from the inputs in the `cols` of `df`.\n",
      " |  \n",
      " |  ----------------------------------------------------------------------\n",
      " |  Data descriptors inherited from fastai.data_block.ItemList:\n",
      " |  \n",
      " |  __dict__\n",
      " |      dictionary for instance variables (if defined)\n",
      " |  \n",
      " |  __weakref__\n",
      " |      list of weak references to the object (if defined)\n",
      "\n"
     ]
    }
   ],
   "source": [
    "help(TextList)"
   ]
  },
  {
   "cell_type": "code",
   "execution_count": 21,
   "metadata": {},
   "outputs": [
    {
     "ename": "TypeError",
     "evalue": "__init__() got an unexpected keyword argument 'col'",
     "output_type": "error",
     "traceback": [
      "\u001b[0;31m---------------------------------------------------------------------------\u001b[0m",
      "\u001b[0;31mTypeError\u001b[0m                                 Traceback (most recent call last)",
      "\u001b[0;32m<ipython-input-21-9238603655c2>\u001b[0m in \u001b[0;36m<module>\u001b[0;34m\u001b[0m\n\u001b[1;32m      1\u001b[0m \u001b[0;31m# use the datablock api\u001b[0m\u001b[0;34m\u001b[0m\u001b[0;34m\u001b[0m\u001b[0;34m\u001b[0m\u001b[0m\n\u001b[0;32m----> 2\u001b[0;31m data = (TextList.from_csv(path, 'texts.csv', col='text')\n\u001b[0m\u001b[1;32m      3\u001b[0m        \u001b[0;34m.\u001b[0m\u001b[0msplit_from_df\u001b[0m\u001b[0;34m(\u001b[0m\u001b[0mcols\u001b[0m\u001b[0;34m=\u001b[0m\u001b[0;36m2\u001b[0m\u001b[0;34m)\u001b[0m\u001b[0;34m\u001b[0m\u001b[0;34m\u001b[0m\u001b[0m\n\u001b[1;32m      4\u001b[0m        \u001b[0;34m.\u001b[0m\u001b[0mlabel_from_df\u001b[0m\u001b[0;34m(\u001b[0m\u001b[0mcols\u001b[0m\u001b[0;34m=\u001b[0m\u001b[0;36m0\u001b[0m\u001b[0;34m)\u001b[0m\u001b[0;34m\u001b[0m\u001b[0;34m\u001b[0m\u001b[0m\n\u001b[1;32m      5\u001b[0m        .databunch())\n",
      "\u001b[0;32m~/anaconda3/envs/deeplearning/lib/python3.6/site-packages/fastai/data_block.py\u001b[0m in \u001b[0;36mfrom_csv\u001b[0;34m(cls, path, csv_name, cols, header, **kwargs)\u001b[0m\n\u001b[1;32m    115\u001b[0m         \u001b[0;34m\"Create an `ItemList` in `path` from the inputs in the `cols` of `path/csv_name` opened with `header`.\"\u001b[0m\u001b[0;34m\u001b[0m\u001b[0;34m\u001b[0m\u001b[0m\n\u001b[1;32m    116\u001b[0m         \u001b[0mdf\u001b[0m \u001b[0;34m=\u001b[0m \u001b[0mpd\u001b[0m\u001b[0;34m.\u001b[0m\u001b[0mread_csv\u001b[0m\u001b[0;34m(\u001b[0m\u001b[0mPath\u001b[0m\u001b[0;34m(\u001b[0m\u001b[0mpath\u001b[0m\u001b[0;34m)\u001b[0m\u001b[0;34m/\u001b[0m\u001b[0mcsv_name\u001b[0m\u001b[0;34m,\u001b[0m \u001b[0mheader\u001b[0m\u001b[0;34m=\u001b[0m\u001b[0mheader\u001b[0m\u001b[0;34m)\u001b[0m\u001b[0;34m\u001b[0m\u001b[0;34m\u001b[0m\u001b[0m\n\u001b[0;32m--> 117\u001b[0;31m         \u001b[0;32mreturn\u001b[0m \u001b[0mcls\u001b[0m\u001b[0;34m.\u001b[0m\u001b[0mfrom_df\u001b[0m\u001b[0;34m(\u001b[0m\u001b[0mdf\u001b[0m\u001b[0;34m,\u001b[0m \u001b[0mpath\u001b[0m\u001b[0;34m=\u001b[0m\u001b[0mpath\u001b[0m\u001b[0;34m,\u001b[0m \u001b[0mcols\u001b[0m\u001b[0;34m=\u001b[0m\u001b[0mcols\u001b[0m\u001b[0;34m,\u001b[0m \u001b[0;34m**\u001b[0m\u001b[0mkwargs\u001b[0m\u001b[0;34m)\u001b[0m\u001b[0;34m\u001b[0m\u001b[0;34m\u001b[0m\u001b[0m\n\u001b[0m\u001b[1;32m    118\u001b[0m \u001b[0;34m\u001b[0m\u001b[0m\n\u001b[1;32m    119\u001b[0m     \u001b[0;32mdef\u001b[0m \u001b[0m_relative_item_path\u001b[0m\u001b[0;34m(\u001b[0m\u001b[0mself\u001b[0m\u001b[0;34m,\u001b[0m \u001b[0mi\u001b[0m\u001b[0;34m)\u001b[0m\u001b[0;34m:\u001b[0m \u001b[0;32mreturn\u001b[0m \u001b[0mself\u001b[0m\u001b[0;34m.\u001b[0m\u001b[0mitems\u001b[0m\u001b[0;34m[\u001b[0m\u001b[0mi\u001b[0m\u001b[0;34m]\u001b[0m\u001b[0;34m.\u001b[0m\u001b[0mrelative_to\u001b[0m\u001b[0;34m(\u001b[0m\u001b[0mself\u001b[0m\u001b[0;34m.\u001b[0m\u001b[0mpath\u001b[0m\u001b[0;34m)\u001b[0m\u001b[0;34m\u001b[0m\u001b[0;34m\u001b[0m\u001b[0m\n",
      "\u001b[0;32m~/anaconda3/envs/deeplearning/lib/python3.6/site-packages/fastai/data_block.py\u001b[0m in \u001b[0;36mfrom_df\u001b[0;34m(cls, df, path, cols, **kwargs)\u001b[0m\n\u001b[1;32m    108\u001b[0m         \u001b[0minputs\u001b[0m \u001b[0;34m=\u001b[0m \u001b[0mdf\u001b[0m\u001b[0;34m.\u001b[0m\u001b[0miloc\u001b[0m\u001b[0;34m[\u001b[0m\u001b[0;34m:\u001b[0m\u001b[0;34m,\u001b[0m\u001b[0mdf_names_to_idx\u001b[0m\u001b[0;34m(\u001b[0m\u001b[0mcols\u001b[0m\u001b[0;34m,\u001b[0m \u001b[0mdf\u001b[0m\u001b[0;34m)\u001b[0m\u001b[0;34m]\u001b[0m\u001b[0;34m\u001b[0m\u001b[0;34m\u001b[0m\u001b[0m\n\u001b[1;32m    109\u001b[0m         \u001b[0;32massert\u001b[0m \u001b[0minputs\u001b[0m\u001b[0;34m.\u001b[0m\u001b[0misna\u001b[0m\u001b[0;34m(\u001b[0m\u001b[0;34m)\u001b[0m\u001b[0;34m.\u001b[0m\u001b[0msum\u001b[0m\u001b[0;34m(\u001b[0m\u001b[0;34m)\u001b[0m\u001b[0;34m.\u001b[0m\u001b[0msum\u001b[0m\u001b[0;34m(\u001b[0m\u001b[0;34m)\u001b[0m \u001b[0;34m==\u001b[0m \u001b[0;36m0\u001b[0m\u001b[0;34m,\u001b[0m \u001b[0;34mf\"You have NaN values in column(s) {cols} of your dataframe, please fix it.\"\u001b[0m\u001b[0;34m\u001b[0m\u001b[0;34m\u001b[0m\u001b[0m\n\u001b[0;32m--> 110\u001b[0;31m         \u001b[0mres\u001b[0m \u001b[0;34m=\u001b[0m \u001b[0mcls\u001b[0m\u001b[0;34m(\u001b[0m\u001b[0mitems\u001b[0m\u001b[0;34m=\u001b[0m\u001b[0m_maybe_squeeze\u001b[0m\u001b[0;34m(\u001b[0m\u001b[0minputs\u001b[0m\u001b[0;34m.\u001b[0m\u001b[0mvalues\u001b[0m\u001b[0;34m)\u001b[0m\u001b[0;34m,\u001b[0m \u001b[0mpath\u001b[0m\u001b[0;34m=\u001b[0m\u001b[0mpath\u001b[0m\u001b[0;34m,\u001b[0m \u001b[0mxtra\u001b[0m \u001b[0;34m=\u001b[0m \u001b[0mdf\u001b[0m\u001b[0;34m,\u001b[0m \u001b[0;34m**\u001b[0m\u001b[0mkwargs\u001b[0m\u001b[0;34m)\u001b[0m\u001b[0;34m\u001b[0m\u001b[0;34m\u001b[0m\u001b[0m\n\u001b[0m\u001b[1;32m    111\u001b[0m         \u001b[0;32mreturn\u001b[0m \u001b[0mres\u001b[0m\u001b[0;34m\u001b[0m\u001b[0;34m\u001b[0m\u001b[0m\n\u001b[1;32m    112\u001b[0m \u001b[0;34m\u001b[0m\u001b[0m\n",
      "\u001b[0;32m~/anaconda3/envs/deeplearning/lib/python3.6/site-packages/fastai/text/data.py\u001b[0m in \u001b[0;36m__init__\u001b[0;34m(self, items, vocab, pad_idx, **kwargs)\u001b[0m\n\u001b[1;32m    310\u001b[0m \u001b[0;34m\u001b[0m\u001b[0m\n\u001b[1;32m    311\u001b[0m     \u001b[0;32mdef\u001b[0m \u001b[0m__init__\u001b[0m\u001b[0;34m(\u001b[0m\u001b[0mself\u001b[0m\u001b[0;34m,\u001b[0m \u001b[0mitems\u001b[0m\u001b[0;34m:\u001b[0m\u001b[0mIterator\u001b[0m\u001b[0;34m,\u001b[0m \u001b[0mvocab\u001b[0m\u001b[0;34m:\u001b[0m\u001b[0mVocab\u001b[0m\u001b[0;34m=\u001b[0m\u001b[0;32mNone\u001b[0m\u001b[0;34m,\u001b[0m \u001b[0mpad_idx\u001b[0m\u001b[0;34m:\u001b[0m\u001b[0mint\u001b[0m\u001b[0;34m=\u001b[0m\u001b[0;36m1\u001b[0m\u001b[0;34m,\u001b[0m \u001b[0;34m**\u001b[0m\u001b[0mkwargs\u001b[0m\u001b[0;34m)\u001b[0m\u001b[0;34m:\u001b[0m\u001b[0;34m\u001b[0m\u001b[0;34m\u001b[0m\u001b[0m\n\u001b[0;32m--> 312\u001b[0;31m         \u001b[0msuper\u001b[0m\u001b[0;34m(\u001b[0m\u001b[0;34m)\u001b[0m\u001b[0;34m.\u001b[0m\u001b[0m__init__\u001b[0m\u001b[0;34m(\u001b[0m\u001b[0mitems\u001b[0m\u001b[0;34m,\u001b[0m \u001b[0;34m**\u001b[0m\u001b[0mkwargs\u001b[0m\u001b[0;34m)\u001b[0m\u001b[0;34m\u001b[0m\u001b[0;34m\u001b[0m\u001b[0m\n\u001b[0m\u001b[1;32m    313\u001b[0m         \u001b[0mself\u001b[0m\u001b[0;34m.\u001b[0m\u001b[0mvocab\u001b[0m\u001b[0;34m,\u001b[0m\u001b[0mself\u001b[0m\u001b[0;34m.\u001b[0m\u001b[0mpad_idx\u001b[0m \u001b[0;34m=\u001b[0m \u001b[0mvocab\u001b[0m\u001b[0;34m,\u001b[0m\u001b[0mpad_idx\u001b[0m\u001b[0;34m\u001b[0m\u001b[0;34m\u001b[0m\u001b[0m\n\u001b[1;32m    314\u001b[0m         \u001b[0mself\u001b[0m\u001b[0;34m.\u001b[0m\u001b[0mcopy_new\u001b[0m \u001b[0;34m+=\u001b[0m \u001b[0;34m[\u001b[0m\u001b[0;34m'vocab'\u001b[0m\u001b[0;34m,\u001b[0m \u001b[0;34m'pad_idx'\u001b[0m\u001b[0;34m]\u001b[0m\u001b[0;34m\u001b[0m\u001b[0;34m\u001b[0m\u001b[0m\n",
      "\u001b[0;31mTypeError\u001b[0m: __init__() got an unexpected keyword argument 'col'"
     ]
    }
   ],
   "source": [
    "# use the datablock api\n",
    "data = (TextList.from_csv(path, 'texts.csv', col='text')\n",
    "       .split_from_df(cols=2)\n",
    "       .label_from_df(cols=0)\n",
    "       .databunch())"
   ]
  },
  {
   "cell_type": "code",
   "execution_count": 24,
   "metadata": {},
   "outputs": [],
   "source": [
    "# grab full dataset\n",
    "path = untar_data(URLs.IMDB)"
   ]
  },
  {
   "cell_type": "code",
   "execution_count": 25,
   "metadata": {},
   "outputs": [
    {
     "data": {
      "text/plain": [
       "[PosixPath('/home/datawrestler/.fastai/data/imdb/tmp_lm'),\n",
       " PosixPath('/home/datawrestler/.fastai/data/imdb/imdb.vocab'),\n",
       " PosixPath('/home/datawrestler/.fastai/data/imdb/test'),\n",
       " PosixPath('/home/datawrestler/.fastai/data/imdb/README'),\n",
       " PosixPath('/home/datawrestler/.fastai/data/imdb/train'),\n",
       " PosixPath('/home/datawrestler/.fastai/data/imdb/unsup'),\n",
       " PosixPath('/home/datawrestler/.fastai/data/imdb/tmp_clas')]"
      ]
     },
     "execution_count": 25,
     "metadata": {},
     "output_type": "execute_result"
    }
   ],
   "source": [
    "path.ls()"
   ]
  },
  {
   "cell_type": "code",
   "execution_count": 26,
   "metadata": {},
   "outputs": [
    {
     "data": {
      "text/plain": [
       "[PosixPath('/home/datawrestler/.fastai/data/imdb/train/unsupBow.feat'),\n",
       " PosixPath('/home/datawrestler/.fastai/data/imdb/train/neg'),\n",
       " PosixPath('/home/datawrestler/.fastai/data/imdb/train/labeledBow.feat'),\n",
       " PosixPath('/home/datawrestler/.fastai/data/imdb/train/pos')]"
      ]
     },
     "execution_count": 26,
     "metadata": {},
     "output_type": "execute_result"
    }
   ],
   "source": [
    "(path/'train').ls()"
   ]
  },
  {
   "cell_type": "code",
   "execution_count": 36,
   "metadata": {},
   "outputs": [],
   "source": [
    "import os\n",
    "base_imdb = '/home/datawrestler/.fastai/data/imdb/train/'\n",
    "imdb_path = '/home/datawrestler/.fastai/data/imdb/train/pos/8851_7.txt'\n",
    "\n",
    "all_text = []\n",
    "all_labels = []\n",
    "\n",
    "for label in ['pos', 'neg']:\n",
    "    path = os.path.join(base_imdb, label)\n",
    "    files = os.listdir(path)\n",
    "    text_files = [file for file in files if file.endswith('.txt')]\n",
    "    for tfile in text_files:\n",
    "        text = open(os.path.join(path, tfile), 'r').read()\n",
    "        all_text.append(text)\n",
    "        all_labels.append(label)\n",
    "        \n",
    "    \n"
   ]
  },
  {
   "cell_type": "code",
   "execution_count": 38,
   "metadata": {},
   "outputs": [
    {
     "data": {
      "text/html": [
       "<div>\n",
       "<style scoped>\n",
       "    .dataframe tbody tr th:only-of-type {\n",
       "        vertical-align: middle;\n",
       "    }\n",
       "\n",
       "    .dataframe tbody tr th {\n",
       "        vertical-align: top;\n",
       "    }\n",
       "\n",
       "    .dataframe thead th {\n",
       "        text-align: right;\n",
       "    }\n",
       "</style>\n",
       "<table border=\"1\" class=\"dataframe\">\n",
       "  <thead>\n",
       "    <tr style=\"text-align: right;\">\n",
       "      <th></th>\n",
       "      <th>text</th>\n",
       "      <th>labels</th>\n",
       "    </tr>\n",
       "  </thead>\n",
       "  <tbody>\n",
       "    <tr>\n",
       "      <th>17672</th>\n",
       "      <td>I absolutely hate this programme, what kind of...</td>\n",
       "      <td>neg</td>\n",
       "    </tr>\n",
       "    <tr>\n",
       "      <th>4748</th>\n",
       "      <td>I think this is a lovely family movie. There a...</td>\n",
       "      <td>pos</td>\n",
       "    </tr>\n",
       "    <tr>\n",
       "      <th>7881</th>\n",
       "      <td>I became a fan of the TV series `Homicide: Lif...</td>\n",
       "      <td>pos</td>\n",
       "    </tr>\n",
       "    <tr>\n",
       "      <th>3738</th>\n",
       "      <td>The one of the most remarkable sci-fi movies o...</td>\n",
       "      <td>pos</td>\n",
       "    </tr>\n",
       "    <tr>\n",
       "      <th>7160</th>\n",
       "      <td>Engrossing drama of four men on a canoing week...</td>\n",
       "      <td>pos</td>\n",
       "    </tr>\n",
       "  </tbody>\n",
       "</table>\n",
       "</div>"
      ],
      "text/plain": [
       "                                                    text labels\n",
       "17672  I absolutely hate this programme, what kind of...    neg\n",
       "4748   I think this is a lovely family movie. There a...    pos\n",
       "7881   I became a fan of the TV series `Homicide: Lif...    pos\n",
       "3738   The one of the most remarkable sci-fi movies o...    pos\n",
       "7160   Engrossing drama of four men on a canoing week...    pos"
      ]
     },
     "execution_count": 38,
     "metadata": {},
     "output_type": "execute_result"
    }
   ],
   "source": [
    "df = pd.DataFrame({'text': all_text,\n",
    "                  'labels': all_labels})\n",
    "\n",
    "df = df.sample(n=df.shape[0])\n",
    "df.head()"
   ]
  },
  {
   "cell_type": "code",
   "execution_count": 41,
   "metadata": {},
   "outputs": [],
   "source": [
    "from sklearn.model_selection import train_test_split\n",
    "\n",
    "train, val = train_test_split(df, test_size=0.1)"
   ]
  },
  {
   "cell_type": "code",
   "execution_count": 39,
   "metadata": {},
   "outputs": [
    {
     "name": "stdout",
     "output_type": "stream",
     "text": [
      "Help on class TextLMDataBunch in module fastai.text.data:\n",
      "\n",
      "class TextLMDataBunch(TextDataBunch)\n",
      " |  Create a `TextDataBunch` suitable for training a language model.\n",
      " |  \n",
      " |  Method resolution order:\n",
      " |      TextLMDataBunch\n",
      " |      TextDataBunch\n",
      " |      fastai.basic_data.DataBunch\n",
      " |      builtins.object\n",
      " |  \n",
      " |  Class methods defined here:\n",
      " |  \n",
      " |  create(train_ds, valid_ds, test_ds=None, path:Union[pathlib.Path, str]='.', no_check:bool=False, bs=64, num_workers:int=0, device:torch.device=None, collate_fn:Callable=<function data_collate at 0x7f2677b48bf8>, dl_tfms:Union[Collection[Callable], NoneType]=None, **kwargs) -> fastai.basic_data.DataBunch from builtins.type\n",
      " |      Create a `TextDataBunch` in `path` from the `datasets` for language modelling.\n",
      " |  \n",
      " |  ----------------------------------------------------------------------\n",
      " |  Methods inherited from TextDataBunch:\n",
      " |  \n",
      " |  save(self, cache_name:Union[pathlib.Path, str]='tmp')\n",
      " |      Save the `DataBunch` in `self.path/cache_name` folder.\n",
      " |  \n",
      " |  ----------------------------------------------------------------------\n",
      " |  Class methods inherited from TextDataBunch:\n",
      " |  \n",
      " |  from_csv(path:Union[pathlib.Path, str], csv_name, valid_pct:float=0.2, test:Union[str, NoneType]=None, tokenizer:fastai.text.transform.Tokenizer=None, vocab:fastai.text.transform.Vocab=None, classes:Collection[str]=None, header='infer', text_cols:Union[int, Collection[int], str, Collection[str]]=1, label_cols:Union[int, Collection[int], str, Collection[str]]=0, label_delim:str=None, **kwargs) -> fastai.basic_data.DataBunch from builtins.type\n",
      " |      Create a `TextDataBunch` from texts in csv files.\n",
      " |  \n",
      " |  from_df(path:Union[pathlib.Path, str], train_df:pandas.core.frame.DataFrame, valid_df:pandas.core.frame.DataFrame, test_df:Union[pandas.core.frame.DataFrame, NoneType]=None, tokenizer:fastai.text.transform.Tokenizer=None, vocab:fastai.text.transform.Vocab=None, classes:Collection[str]=None, text_cols:Union[int, Collection[int], str, Collection[str]]=1, label_cols:Union[int, Collection[int], str, Collection[str]]=0, label_delim:str=None, **kwargs) -> fastai.basic_data.DataBunch from builtins.type\n",
      " |      Create a `TextDataBunch` from DataFrames.\n",
      " |  \n",
      " |  from_folder(path:Union[pathlib.Path, str], train:str='train', valid:str='valid', test:Union[str, NoneType]=None, classes:Collection[Any]=None, tokenizer:fastai.text.transform.Tokenizer=None, vocab:fastai.text.transform.Vocab=None, **kwargs) from builtins.type\n",
      " |      Create a `TextDataBunch` from text files in folders.\n",
      " |  \n",
      " |  from_ids(path:Union[pathlib.Path, str], vocab:fastai.text.transform.Vocab, train_ids:Collection[Collection[int]], valid_ids:Collection[Collection[int]], test_ids:Collection[Collection[int]]=None, train_lbls:Collection[Union[int, float]]=None, valid_lbls:Collection[Union[int, float]]=None, classes:Collection[Any]=None, processor:fastai.data_block.PreProcessor=None, **kwargs) -> fastai.basic_data.DataBunch from builtins.type\n",
      " |      Create a `TextDataBunch` from ids, labels and a `vocab`.\n",
      " |  \n",
      " |  from_tokens(path:Union[pathlib.Path, str], trn_tok:Collection[Collection[str]], trn_lbls:Collection[Union[int, float]], val_tok:Collection[Collection[str]], val_lbls:Collection[Union[int, float]], vocab:fastai.text.transform.Vocab=None, tst_tok:Collection[Collection[str]]=None, classes:Collection[Any]=None, **kwargs) -> fastai.basic_data.DataBunch from builtins.type\n",
      " |      Create a `TextDataBunch` from tokens and labels.\n",
      " |  \n",
      " |  load(path:Union[pathlib.Path, str], cache_name:Union[pathlib.Path, str]='tmp', processor:fastai.data_block.PreProcessor=None, **kwargs) from builtins.type\n",
      " |      Load a `TextDataBunch` from `path/cache_name`. `kwargs` are passed to the dataloader creation.\n",
      " |  \n",
      " |  ----------------------------------------------------------------------\n",
      " |  Methods inherited from fastai.basic_data.DataBunch:\n",
      " |  \n",
      " |  __getattr__(self, k:int) -> Any\n",
      " |  \n",
      " |  __init__(self, train_dl:torch.utils.data.dataloader.DataLoader, valid_dl:torch.utils.data.dataloader.DataLoader, fix_dl:torch.utils.data.dataloader.DataLoader=None, test_dl:Union[torch.utils.data.dataloader.DataLoader, NoneType]=None, device:torch.device=None, dl_tfms:Union[Collection[Callable], NoneType]=None, path:Union[pathlib.Path, str]='.', collate_fn:Callable=<function data_collate at 0x7f2677b48bf8>, no_check:bool=False)\n",
      " |      Initialize self.  See help(type(self)) for accurate signature.\n",
      " |  \n",
      " |  __repr__(self) -> str\n",
      " |      Return repr(self).\n",
      " |  \n",
      " |  add_tfm(self, tfm:Callable) -> None\n",
      " |  \n",
      " |  dl(self, ds_type:fastai.basic_data.DatasetType=<DatasetType.Valid: 2>) -> fastai.basic_data.DeviceDataLoader\n",
      " |      Returns appropriate `Dataset` for validation, training, or test (`ds_type`).\n",
      " |  \n",
      " |  export(self, fname:str='export.pkl')\n",
      " |      Export the minimal state of `self` for inference in `self.path/fname`.\n",
      " |  \n",
      " |  one_batch(self, ds_type:fastai.basic_data.DatasetType=<DatasetType.Train: 1>, detach:bool=True, denorm:bool=True, cpu:bool=True) -> Collection[torch.Tensor]\n",
      " |      Get one batch from the data loader of `ds_type`. Optionally `detach` and `denorm`.\n",
      " |  \n",
      " |  one_item(self, item, detach:bool=False, denorm:bool=False, cpu:bool=False)\n",
      " |      Get `item` into a batch. Optionally `detach` and `denorm`.\n",
      " |  \n",
      " |  sanity_check(self)\n",
      " |      Check the underlying data in the training set can be properly loaded.\n",
      " |  \n",
      " |  show_batch(self, rows:int=5, ds_type:fastai.basic_data.DatasetType=<DatasetType.Train: 1>, **kwargs) -> None\n",
      " |      Show a batch of data in `ds_type` on a few `rows`.\n",
      " |  \n",
      " |  ----------------------------------------------------------------------\n",
      " |  Class methods inherited from fastai.basic_data.DataBunch:\n",
      " |  \n",
      " |  load_empty = _databunch_load_empty(path, fname:str='export.pkl') from builtins.type\n",
      " |      Load an empty `DataBunch` from the exported file in `path/fname` with optional `tfms`.\n",
      " |  \n",
      " |  ----------------------------------------------------------------------\n",
      " |  Data descriptors inherited from fastai.basic_data.DataBunch:\n",
      " |  \n",
      " |  __dict__\n",
      " |      dictionary for instance variables (if defined)\n",
      " |  \n",
      " |  __weakref__\n",
      " |      list of weak references to the object (if defined)\n",
      " |  \n",
      " |  batch_size\n",
      " |  \n",
      " |  dls\n",
      " |  \n",
      " |  empty_val\n",
      " |  \n",
      " |  loss_func\n",
      " |  \n",
      " |  single_ds\n",
      " |  \n",
      " |  test_ds\n",
      " |  \n",
      " |  train_ds\n",
      " |  \n",
      " |  valid_ds\n",
      "\n"
     ]
    }
   ],
   "source": [
    "help(TextLMDataBunch)"
   ]
  },
  {
   "cell_type": "code",
   "execution_count": 42,
   "metadata": {},
   "outputs": [],
   "source": [
    "import spacy\n",
    "\n",
    "nlp = spacy.load('en_core_web_lg')"
   ]
  },
  {
   "cell_type": "code",
   "execution_count": 43,
   "metadata": {},
   "outputs": [],
   "source": [
    "def tokenizer(text):\n",
    "    return [token for token in nlp.tokenizer(text)]"
   ]
  },
  {
   "cell_type": "code",
   "execution_count": null,
   "metadata": {},
   "outputs": [],
   "source": []
  },
  {
   "cell_type": "code",
   "execution_count": 58,
   "metadata": {},
   "outputs": [],
   "source": [
    "data_lm = (TextLMDataBunch.from_df(train_df=train, valid_df=val,\n",
    "                                  text_cols='text', path=base_imdb, device=device))"
   ]
  },
  {
   "cell_type": "code",
   "execution_count": 59,
   "metadata": {},
   "outputs": [
    {
     "data": {
      "text/plain": [
       "array([  2,   4,  53,  18, 321,  45,   8, 372,  10, 693])"
      ]
     },
     "execution_count": 59,
     "metadata": {},
     "output_type": "execute_result"
    }
   ],
   "source": [
    "# numbers\n",
    "data_lm.train_ds[0][0].data[:10]"
   ]
  },
  {
   "cell_type": "code",
   "execution_count": 60,
   "metadata": {},
   "outputs": [
    {
     "data": {
      "text/html": [
       "<table>  <col width='5%'>  <col width='95%'>  <tr>\n",
       "    <th>idx</th>\n",
       "    <th>text</th>\n",
       "  </tr>\n",
       "  <tr>\n",
       "    <th>0</th>\n",
       "    <th>even if i have n't seen all his films yet , i 'd have to say that this is xxmaj spielberg at his peak . xxmaj it 's pretty sad to see that movies as great as \" xxmaj the xxmaj color xxmaj purple \" do n't come along too often 'cause i think all of us are in desperate need of first - class motion picture entertainment in these</th>\n",
       "  </tr>\n",
       "  <tr>\n",
       "    <th>1</th>\n",
       "    <th>justin and xxmaj june xxmaj duprez were great in the leading roles of lovers , both of them slightly and refreshingly stilted , but the parts did n't call for a huge range of emotions : only pure love mattered . \\n\\n xxmaj there 's a couple of mildly violent images in it , but rest assured this is a glorious feelgood experience with a 100 % positive message ,</th>\n",
       "  </tr>\n",
       "  <tr>\n",
       "    <th>2</th>\n",
       "    <th>names , but i ca n't remember what they are for the likes of me . xxmaj he fights off this invading male , to win her love . xxmaj they later on create a den , and the vixen gives birth to four adorable xxunk of which is blind . xxmaj there are many happy and playful moments featuring the fox family , but tragedy and bad luck strike</th>\n",
       "  </tr>\n",
       "  <tr>\n",
       "    <th>3</th>\n",
       "    <th>enough atmosphere to shake a stick at , xxmaj undying is the game to beat in my books as the best horror title . i just wish that this had made it to a console system but alas poor xxup pc sales xxunk that one in the bud . xxbos i 've seen a slew of \" 80s rocker horrors \" over the years , from rubbish like \" xxmaj</th>\n",
       "  </tr>\n",
       "  <tr>\n",
       "    <th>4</th>\n",
       "    <th>, great acting and a superb atmosphere . \\n\\n xxmaj in the film you will follow 8 people for one day in the city of antwerp , they are all individuals and sometimes plain weird ( that 's how i love them ! ) . \\n\\n i 'm not going to say anything else , just go see and enjoy it . xxbos xxmaj it 's pretty bad when the</th>\n",
       "  </tr>\n",
       "</table>\n"
      ],
      "text/plain": [
       "<IPython.core.display.HTML object>"
      ]
     },
     "metadata": {},
     "output_type": "display_data"
    }
   ],
   "source": [
    "data_lm.show_batch()"
   ]
  },
  {
   "cell_type": "code",
   "execution_count": 61,
   "metadata": {},
   "outputs": [
    {
     "data": {
      "text/plain": [
       "device(type='cuda')"
      ]
     },
     "execution_count": 61,
     "metadata": {},
     "output_type": "execute_result"
    }
   ],
   "source": [
    "import torch \n",
    "\n",
    "# specify device type\n",
    "device = torch.device('cuda' if torch.cuda.is_available() else 'cpu')\n",
    "\n",
    "device"
   ]
  },
  {
   "cell_type": "code",
   "execution_count": 62,
   "metadata": {},
   "outputs": [
    {
     "name": "stdout",
     "output_type": "stream",
     "text": [
      "Help on function language_model_learner in module fastai.text.learner:\n",
      "\n",
      "language_model_learner(data:fastai.basic_data.DataBunch, bptt:int=70, emb_sz:int=400, nh:int=1150, nl:int=3, pad_token:int=1, drop_mult:float=1.0, tie_weights:bool=True, bias:bool=True, qrnn:bool=False, pretrained_model:str=None, pretrained_fnames:Union[Tuple[str, str], NoneType]=None, **kwargs) -> 'LanguageLearner'\n",
      "    Create a `Learner` with a language model from `data`.\n",
      "\n"
     ]
    }
   ],
   "source": [
    "help(language_model_learner)"
   ]
  },
  {
   "cell_type": "code",
   "execution_count": 97,
   "metadata": {},
   "outputs": [],
   "source": [
    "# drop_mult = dropout rate\n",
    "learn = language_model_learner(data_lm, pretrained_model=URLs.WT103, drop_mult=0.3)"
   ]
  },
  {
   "cell_type": "code",
   "execution_count": 98,
   "metadata": {},
   "outputs": [],
   "source": [
    "learn.model = learn.model.to(device)"
   ]
  },
  {
   "cell_type": "code",
   "execution_count": null,
   "metadata": {},
   "outputs": [],
   "source": [
    "learn.lr_find()"
   ]
  },
  {
   "cell_type": "code",
   "execution_count": null,
   "metadata": {},
   "outputs": [],
   "source": [
    "learn.recorder.plot(skip_end=15)"
   ]
  },
  {
   "cell_type": "code",
   "execution_count": 68,
   "metadata": {},
   "outputs": [
    {
     "data": {
      "text/html": [
       "Total time: 04:18 <p><table style='width:300px; margin-bottom:10px'>\n",
       "  <tr>\n",
       "    <th>epoch</th>\n",
       "    <th>train_loss</th>\n",
       "    <th>valid_loss</th>\n",
       "    <th>accuracy</th>\n",
       "  </tr>\n",
       "  <tr>\n",
       "    <th>1</th>\n",
       "    <th>4.349803</th>\n",
       "    <th>4.193694</th>\n",
       "    <th>0.273369</th>\n",
       "  </tr>\n",
       "</table>\n"
      ],
      "text/plain": [
       "<IPython.core.display.HTML object>"
      ]
     },
     "metadata": {},
     "output_type": "display_data"
    }
   ],
   "source": [
    "# fine tune last layers\n",
    "learn.fit_one_cycle(1, 1e-2, moms=(0.8, 0.7))"
   ]
  },
  {
   "cell_type": "code",
   "execution_count": null,
   "metadata": {},
   "outputs": [
    {
     "data": {
      "text/html": [
       "\n",
       "    <div>\n",
       "        <style>\n",
       "            /* Turns off some styling */\n",
       "            progress {\n",
       "                /* gets rid of default border in Firefox and Opera. */\n",
       "                border: none;\n",
       "                /* Needs to be in here for Safari polyfill so background images work as expected. */\n",
       "                background-size: auto;\n",
       "            }\n",
       "            .progress-bar-interrupted, .progress-bar-interrupted::-webkit-progress-bar {\n",
       "                background: #F44336;\n",
       "            }\n",
       "        </style>\n",
       "      <progress value='0' class='' max='10', style='width:300px; height:20px; vertical-align: middle;'></progress>\n",
       "      0.00% [0/10 00:00<00:00]\n",
       "    </div>\n",
       "    \n",
       "<table style='width:300px; margin-bottom:10px'>\n",
       "  <tr>\n",
       "    <th>epoch</th>\n",
       "    <th>train_loss</th>\n",
       "    <th>valid_loss</th>\n",
       "    <th>accuracy</th>\n",
       "  </tr>\n",
       "</table>\n",
       "\n",
       "\n",
       "    <div>\n",
       "        <style>\n",
       "            /* Turns off some styling */\n",
       "            progress {\n",
       "                /* gets rid of default border in Firefox and Opera. */\n",
       "                border: none;\n",
       "                /* Needs to be in here for Safari polyfill so background images work as expected. */\n",
       "                background-size: auto;\n",
       "            }\n",
       "            .progress-bar-interrupted, .progress-bar-interrupted::-webkit-progress-bar {\n",
       "                background: #F44336;\n",
       "            }\n",
       "        </style>\n",
       "      <progress value='72' class='' max='1516', style='width:300px; height:20px; vertical-align: middle;'></progress>\n",
       "      4.75% [72/1516 00:13<04:20 5.9014]\n",
       "    </div>\n",
       "    "
      ],
      "text/plain": [
       "<IPython.core.display.HTML object>"
      ]
     },
     "metadata": {},
     "output_type": "display_data"
    }
   ],
   "source": [
    "# fit one cycle only calibrates the last layers. To unfreeze the middle weights,\n",
    "# we can unfreeze the weights and retrain\n",
    "learn.unfreeze()\n",
    "learn.fit_one_cycle(10, 1e-3, moms=(0.8, 0.7))"
   ]
  },
  {
   "cell_type": "code",
   "execution_count": null,
   "metadata": {},
   "outputs": [],
   "source": [
    "# save model\n",
    "learn.save('fine_tuned')"
   ]
  },
  {
   "cell_type": "code",
   "execution_count": null,
   "metadata": {},
   "outputs": [],
   "source": [
    "# to load up a model\n",
    "# learn.load('fine_tuned')"
   ]
  },
  {
   "cell_type": "code",
   "execution_count": null,
   "metadata": {},
   "outputs": [],
   "source": [
    "# to generate text\n",
    "learn.predict('I like this movie because ', 100, temperature=1.1, min_p=0.001)"
   ]
  },
  {
   "cell_type": "code",
   "execution_count": null,
   "metadata": {},
   "outputs": [],
   "source": [
    "# we have to save the model but also its encoer, the parts that is responsible \n",
    "# for creating and updating the hidden state. For the next part, we don't\n",
    "# care about the part that tries to guess the next word\n",
    "learn.save_encoder('fine_tuned_enc')"
   ]
  },
  {
   "cell_type": "code",
   "execution_count": 72,
   "metadata": {},
   "outputs": [
    {
     "name": "stdout",
     "output_type": "stream",
     "text": [
      "Help on class TextClasDataBunch in module fastai.text.data:\n",
      "\n",
      "class TextClasDataBunch(TextDataBunch)\n",
      " |  Create a `TextDataBunch` suitable for training an RNN classifier.\n",
      " |  \n",
      " |  Method resolution order:\n",
      " |      TextClasDataBunch\n",
      " |      TextDataBunch\n",
      " |      fastai.basic_data.DataBunch\n",
      " |      builtins.object\n",
      " |  \n",
      " |  Class methods defined here:\n",
      " |  \n",
      " |  create(train_ds, valid_ds, test_ds=None, path:Union[pathlib.Path, str]='.', bs=64, pad_idx=1, pad_first=True, no_check:bool=False, **kwargs) -> fastai.basic_data.DataBunch from builtins.type\n",
      " |      Function that transform the `datasets` in a `DataBunch` for classification.\n",
      " |  \n",
      " |  ----------------------------------------------------------------------\n",
      " |  Methods inherited from TextDataBunch:\n",
      " |  \n",
      " |  save(self, cache_name:Union[pathlib.Path, str]='tmp')\n",
      " |      Save the `DataBunch` in `self.path/cache_name` folder.\n",
      " |  \n",
      " |  ----------------------------------------------------------------------\n",
      " |  Class methods inherited from TextDataBunch:\n",
      " |  \n",
      " |  from_csv(path:Union[pathlib.Path, str], csv_name, valid_pct:float=0.2, test:Union[str, NoneType]=None, tokenizer:fastai.text.transform.Tokenizer=None, vocab:fastai.text.transform.Vocab=None, classes:Collection[str]=None, header='infer', text_cols:Union[int, Collection[int], str, Collection[str]]=1, label_cols:Union[int, Collection[int], str, Collection[str]]=0, label_delim:str=None, **kwargs) -> fastai.basic_data.DataBunch from builtins.type\n",
      " |      Create a `TextDataBunch` from texts in csv files.\n",
      " |  \n",
      " |  from_df(path:Union[pathlib.Path, str], train_df:pandas.core.frame.DataFrame, valid_df:pandas.core.frame.DataFrame, test_df:Union[pandas.core.frame.DataFrame, NoneType]=None, tokenizer:fastai.text.transform.Tokenizer=None, vocab:fastai.text.transform.Vocab=None, classes:Collection[str]=None, text_cols:Union[int, Collection[int], str, Collection[str]]=1, label_cols:Union[int, Collection[int], str, Collection[str]]=0, label_delim:str=None, **kwargs) -> fastai.basic_data.DataBunch from builtins.type\n",
      " |      Create a `TextDataBunch` from DataFrames.\n",
      " |  \n",
      " |  from_folder(path:Union[pathlib.Path, str], train:str='train', valid:str='valid', test:Union[str, NoneType]=None, classes:Collection[Any]=None, tokenizer:fastai.text.transform.Tokenizer=None, vocab:fastai.text.transform.Vocab=None, **kwargs) from builtins.type\n",
      " |      Create a `TextDataBunch` from text files in folders.\n",
      " |  \n",
      " |  from_ids(path:Union[pathlib.Path, str], vocab:fastai.text.transform.Vocab, train_ids:Collection[Collection[int]], valid_ids:Collection[Collection[int]], test_ids:Collection[Collection[int]]=None, train_lbls:Collection[Union[int, float]]=None, valid_lbls:Collection[Union[int, float]]=None, classes:Collection[Any]=None, processor:fastai.data_block.PreProcessor=None, **kwargs) -> fastai.basic_data.DataBunch from builtins.type\n",
      " |      Create a `TextDataBunch` from ids, labels and a `vocab`.\n",
      " |  \n",
      " |  from_tokens(path:Union[pathlib.Path, str], trn_tok:Collection[Collection[str]], trn_lbls:Collection[Union[int, float]], val_tok:Collection[Collection[str]], val_lbls:Collection[Union[int, float]], vocab:fastai.text.transform.Vocab=None, tst_tok:Collection[Collection[str]]=None, classes:Collection[Any]=None, **kwargs) -> fastai.basic_data.DataBunch from builtins.type\n",
      " |      Create a `TextDataBunch` from tokens and labels.\n",
      " |  \n",
      " |  load(path:Union[pathlib.Path, str], cache_name:Union[pathlib.Path, str]='tmp', processor:fastai.data_block.PreProcessor=None, **kwargs) from builtins.type\n",
      " |      Load a `TextDataBunch` from `path/cache_name`. `kwargs` are passed to the dataloader creation.\n",
      " |  \n",
      " |  ----------------------------------------------------------------------\n",
      " |  Methods inherited from fastai.basic_data.DataBunch:\n",
      " |  \n",
      " |  __getattr__(self, k:int) -> Any\n",
      " |  \n",
      " |  __init__(self, train_dl:torch.utils.data.dataloader.DataLoader, valid_dl:torch.utils.data.dataloader.DataLoader, fix_dl:torch.utils.data.dataloader.DataLoader=None, test_dl:Union[torch.utils.data.dataloader.DataLoader, NoneType]=None, device:torch.device=None, dl_tfms:Union[Collection[Callable], NoneType]=None, path:Union[pathlib.Path, str]='.', collate_fn:Callable=<function data_collate at 0x7f2677b48bf8>, no_check:bool=False)\n",
      " |      Initialize self.  See help(type(self)) for accurate signature.\n",
      " |  \n",
      " |  __repr__(self) -> str\n",
      " |      Return repr(self).\n",
      " |  \n",
      " |  add_tfm(self, tfm:Callable) -> None\n",
      " |  \n",
      " |  dl(self, ds_type:fastai.basic_data.DatasetType=<DatasetType.Valid: 2>) -> fastai.basic_data.DeviceDataLoader\n",
      " |      Returns appropriate `Dataset` for validation, training, or test (`ds_type`).\n",
      " |  \n",
      " |  export(self, fname:str='export.pkl')\n",
      " |      Export the minimal state of `self` for inference in `self.path/fname`.\n",
      " |  \n",
      " |  one_batch(self, ds_type:fastai.basic_data.DatasetType=<DatasetType.Train: 1>, detach:bool=True, denorm:bool=True, cpu:bool=True) -> Collection[torch.Tensor]\n",
      " |      Get one batch from the data loader of `ds_type`. Optionally `detach` and `denorm`.\n",
      " |  \n",
      " |  one_item(self, item, detach:bool=False, denorm:bool=False, cpu:bool=False)\n",
      " |      Get `item` into a batch. Optionally `detach` and `denorm`.\n",
      " |  \n",
      " |  sanity_check(self)\n",
      " |      Check the underlying data in the training set can be properly loaded.\n",
      " |  \n",
      " |  show_batch(self, rows:int=5, ds_type:fastai.basic_data.DatasetType=<DatasetType.Train: 1>, **kwargs) -> None\n",
      " |      Show a batch of data in `ds_type` on a few `rows`.\n",
      " |  \n",
      " |  ----------------------------------------------------------------------\n",
      " |  Class methods inherited from fastai.basic_data.DataBunch:\n",
      " |  \n",
      " |  load_empty = _databunch_load_empty(path, fname:str='export.pkl') from builtins.type\n",
      " |      Load an empty `DataBunch` from the exported file in `path/fname` with optional `tfms`.\n",
      " |  \n",
      " |  ----------------------------------------------------------------------\n",
      " |  Data descriptors inherited from fastai.basic_data.DataBunch:\n",
      " |  \n",
      " |  __dict__\n",
      " |      dictionary for instance variables (if defined)\n",
      " |  \n",
      " |  __weakref__\n",
      " |      list of weak references to the object (if defined)\n",
      " |  \n",
      " |  batch_size\n",
      " |  \n",
      " |  dls\n",
      " |  \n",
      " |  empty_val\n",
      " |  \n",
      " |  loss_func\n",
      " |  \n",
      " |  single_ds\n",
      " |  \n",
      " |  test_ds\n",
      " |  \n",
      " |  train_ds\n",
      " |  \n",
      " |  valid_ds\n",
      "\n"
     ]
    }
   ],
   "source": [
    "help(TextClasDataBunch)"
   ]
  },
  {
   "cell_type": "code",
   "execution_count": 73,
   "metadata": {},
   "outputs": [],
   "source": [
    "from sklearn.model_selection import train_test_split\n",
    "\n",
    "train, test = train_test_split(df, test_size=0.3)\n",
    "test, val = train_test_split(test, test_size=0.2)"
   ]
  },
  {
   "cell_type": "markdown",
   "metadata": {},
   "source": [
    "#### Create classifier"
   ]
  },
  {
   "cell_type": "code",
   "execution_count": 83,
   "metadata": {},
   "outputs": [],
   "source": [
    "data_clas = (TextClasDataBunch.from_df(train_df=train, valid_df=val, \n",
    "                                      test_df=test, vocab=data_lm.vocab, \n",
    "                                      path=base_imdb, label_cols='labels', \n",
    "                                      text_cols='text', bs=50))"
   ]
  },
  {
   "cell_type": "code",
   "execution_count": 86,
   "metadata": {},
   "outputs": [],
   "source": [
    "# create learner\n",
    "learn = text_classifier_learner(data_clas, drop_mult=0.5)\n",
    "learn.model = learn.model.to(device)\n",
    "learn.load_encoder('fine_tuned_enc')\n",
    "learn.freeze()"
   ]
  },
  {
   "cell_type": "code",
   "execution_count": 90,
   "metadata": {},
   "outputs": [
    {
     "name": "stdout",
     "output_type": "stream",
     "text": [
      "LR Finder is complete, type {learner_name}.recorder.plot() to see the graph.\n"
     ]
    }
   ],
   "source": [
    "# find the learning rate\n",
    "learn.lr_find()"
   ]
  },
  {
   "cell_type": "code",
   "execution_count": 91,
   "metadata": {},
   "outputs": [
    {
     "data": {
      "image/png": "[encoded data removed]",
      "text/plain": [
       "<Figure size 432x288 with 1 Axes>"
      ]
     },
     "metadata": {
      "needs_background": "light"
     },
     "output_type": "display_data"
    }
   ],
   "source": [
    "# plot the learning rate\n",
    "learn.recorder.plot()"
   ]
  },
  {
   "cell_type": "code",
   "execution_count": 92,
   "metadata": {},
   "outputs": [
    {
     "data": {
      "text/html": [
       "Total time: 02:06 <p><table style='width:300px; margin-bottom:10px'>\n",
       "  <tr>\n",
       "    <th>epoch</th>\n",
       "    <th>train_loss</th>\n",
       "    <th>valid_loss</th>\n",
       "    <th>accuracy</th>\n",
       "  </tr>\n",
       "  <tr>\n",
       "    <th>1</th>\n",
       "    <th>0.489732</th>\n",
       "    <th>0.396303</th>\n",
       "    <th>0.828000</th>\n",
       "  </tr>\n",
       "</table>\n"
      ],
      "text/plain": [
       "<IPython.core.display.HTML object>"
      ]
     },
     "metadata": {},
     "output_type": "display_data"
    }
   ],
   "source": [
    "# fit with tuned learning rate from above\n",
    "learn.fit_one_cycle(1, 2e-2, moms=(0.8, 0.7))"
   ]
  },
  {
   "cell_type": "code",
   "execution_count": null,
   "metadata": {},
   "outputs": [],
   "source": [
    "learn.save('first')"
   ]
  },
  {
   "cell_type": "code",
   "execution_count": 93,
   "metadata": {},
   "outputs": [
    {
     "data": {
      "text/html": [
       "Total time: 02:21 <p><table style='width:300px; margin-bottom:10px'>\n",
       "  <tr>\n",
       "    <th>epoch</th>\n",
       "    <th>train_loss</th>\n",
       "    <th>valid_loss</th>\n",
       "    <th>accuracy</th>\n",
       "  </tr>\n",
       "  <tr>\n",
       "    <th>1</th>\n",
       "    <th>0.389068</th>\n",
       "    <th>0.302034</th>\n",
       "    <th>0.882667</th>\n",
       "  </tr>\n",
       "</table>\n"
      ],
      "text/plain": [
       "<IPython.core.display.HTML object>"
      ]
     },
     "metadata": {},
     "output_type": "display_data"
    }
   ],
   "source": [
    "# unfreeze the last 2 layers, don't unfreeze the whole thing\n",
    "# unfreeze in an iterative process. Train with unfrozen last two layers\n",
    "# then train again with the last 3 layers, then train again with the whole \n",
    "# thing\n",
    "learn.freeze_to(-2)\n",
    "learn.fit_one_cycle(1, slice(1e-2/(2.6**4), 1e-2), moms=(0.8, 0.7))"
   ]
  },
  {
   "cell_type": "code",
   "execution_count": 94,
   "metadata": {},
   "outputs": [
    {
     "data": {
      "text/html": [
       "Total time: 03:55 <p><table style='width:300px; margin-bottom:10px'>\n",
       "  <tr>\n",
       "    <th>epoch</th>\n",
       "    <th>train_loss</th>\n",
       "    <th>valid_loss</th>\n",
       "    <th>accuracy</th>\n",
       "  </tr>\n",
       "  <tr>\n",
       "    <th>1</th>\n",
       "    <th>0.329627</th>\n",
       "    <th>0.259485</th>\n",
       "    <th>0.900000</th>\n",
       "  </tr>\n",
       "</table>\n"
      ],
      "text/plain": [
       "<IPython.core.display.HTML object>"
      ]
     },
     "metadata": {},
     "output_type": "display_data"
    }
   ],
   "source": [
    "learn.freeze_to(-3)\n",
    "learn.fit_one_cycle(1, slice(5e-3/(2.6**4), 5e-3), moms=(0.8, 0.7))"
   ]
  },
  {
   "cell_type": "code",
   "execution_count": 95,
   "metadata": {},
   "outputs": [
    {
     "data": {
      "text/html": [
       "Total time: 10:58 <p><table style='width:300px; margin-bottom:10px'>\n",
       "  <tr>\n",
       "    <th>epoch</th>\n",
       "    <th>train_loss</th>\n",
       "    <th>valid_loss</th>\n",
       "    <th>accuracy</th>\n",
       "  </tr>\n",
       "  <tr>\n",
       "    <th>1</th>\n",
       "    <th>0.298484</th>\n",
       "    <th>0.248855</th>\n",
       "    <th>0.901333</th>\n",
       "  </tr>\n",
       "  <tr>\n",
       "    <th>2</th>\n",
       "    <th>0.294350</th>\n",
       "    <th>0.244838</th>\n",
       "    <th>0.900667</th>\n",
       "  </tr>\n",
       "</table>\n"
      ],
      "text/plain": [
       "<IPython.core.display.HTML object>"
      ]
     },
     "metadata": {},
     "output_type": "display_data"
    }
   ],
   "source": [
    "# unfreeze whole thing\n",
    "# for training RNN, it really helps to decrease the momentum a little bit\n",
    "# which is what the moms parameter does\n",
    "learn.unfreeze()\n",
    "learn.fit_one_cycle(2, slice(1e-3/(2.6**4), 1e-3), moms=(0.8, 0.7))"
   ]
  },
  {
   "cell_type": "markdown",
   "metadata": {},
   "source": [
    "#### Language Model"
   ]
  },
  {
   "cell_type": "code",
   "execution_count": null,
   "metadata": {},
   "outputs": [],
   "source": []
  }
 ],
 "metadata": {
  "kernelspec": {
   "display_name": "Python [conda env:deeplearning]",
   "language": "python",
   "name": "conda-env-deeplearning-py"
  },
  "language_info": {
   "codemirror_mode": {
    "name": "ipython",
    "version": 3
   },
   "file_extension": ".py",
   "mimetype": "text/x-python",
   "name": "python",
   "nbconvert_exporter": "python",
   "pygments_lexer": "ipython3",
   "version": "3.6.8"
  }
 },
 "nbformat": 4,
 "nbformat_minor": 2
}
