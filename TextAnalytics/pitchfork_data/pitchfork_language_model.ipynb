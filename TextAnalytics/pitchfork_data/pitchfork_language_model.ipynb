{
 "cells": [
  {
   "cell_type": "markdown",
   "metadata": {},
   "source": [
    "In this tutorial we are going to implement a transfer learning model for text version of the ULMfit. \n",
    "We are first running the language model needed for the classifier."
   ]
  },
  {
   "cell_type": "code",
   "execution_count": 58,
   "metadata": {},
   "outputs": [],
   "source": [
    "import os\n",
    "\n",
    "# username \n",
    "os.environ['KAGGLE_USERNAME'] = \"jlealtru\" \n",
    "# key\n",
    "os.environ['KAGGLE_KEY'] = \"6c3a4d6b4d8e7804780d6cb02879ac53\""
   ]
  },
  {
   "cell_type": "code",
   "execution_count": 59,
   "metadata": {},
   "outputs": [],
   "source": [
    "path = os.getcwd()"
   ]
  },
  {
   "cell_type": "code",
   "execution_count": 41,
   "metadata": {},
   "outputs": [
    {
     "name": "stdout",
     "output_type": "stream",
     "text": [
      "Downloading pitchfork-data.zip to /media/jlealtru/data_files/github/Tutorials/TextAnalytics/pitchfork_data\n",
      "100%|██████████████████████████████████████| 34.4M/34.4M [00:17<00:00, 1.66MB/s]\n",
      "\n"
     ]
    }
   ],
   "source": [
    "# Download from Kaggle\n",
    "!kaggle datasets download -d nolanbconaway/pitchfork-data --force --unzip # api copied from kaggle"
   ]
  },
  {
   "cell_type": "code",
   "execution_count": 60,
   "metadata": {},
   "outputs": [],
   "source": [
    "# connect to database\n",
    "import sqlite3 as lite\n",
    "import pandas as pd\n",
    "import numpy as np\n",
    "from pandas.io.sql import read_sql\n",
    "\n",
    "con = lite.connect('database.sqlite')"
   ]
  },
  {
   "cell_type": "code",
   "execution_count": 61,
   "metadata": {},
   "outputs": [
    {
     "data": {
      "text/html": [
       "<div>\n",
       "<style scoped>\n",
       "    .dataframe tbody tr th:only-of-type {\n",
       "        vertical-align: middle;\n",
       "    }\n",
       "\n",
       "    .dataframe tbody tr th {\n",
       "        vertical-align: top;\n",
       "    }\n",
       "\n",
       "    .dataframe thead th {\n",
       "        text-align: right;\n",
       "    }\n",
       "</style>\n",
       "<table border=\"1\" class=\"dataframe\">\n",
       "  <thead>\n",
       "    <tr style=\"text-align: right;\">\n",
       "      <th></th>\n",
       "      <th>content</th>\n",
       "      <th>reviewid</th>\n",
       "      <th>title</th>\n",
       "      <th>artist</th>\n",
       "      <th>url</th>\n",
       "      <th>score</th>\n",
       "      <th>best_new_music</th>\n",
       "      <th>author</th>\n",
       "      <th>author_type</th>\n",
       "      <th>pub_date</th>\n",
       "      <th>pub_weekday</th>\n",
       "      <th>pub_day</th>\n",
       "      <th>pub_month</th>\n",
       "      <th>pub_year</th>\n",
       "    </tr>\n",
       "  </thead>\n",
       "  <tbody>\n",
       "    <tr>\n",
       "      <th>0</th>\n",
       "      <td>“Trip-hop” eventually became a ’90s punchline,...</td>\n",
       "      <td>22703</td>\n",
       "      <td>mezzanine</td>\n",
       "      <td>massive attack</td>\n",
       "      <td>http://pitchfork.com/reviews/albums/22703-mezz...</td>\n",
       "      <td>9.3</td>\n",
       "      <td>0</td>\n",
       "      <td>nate patrin</td>\n",
       "      <td>contributor</td>\n",
       "      <td>2017-01-08</td>\n",
       "      <td>6</td>\n",
       "      <td>8</td>\n",
       "      <td>1</td>\n",
       "      <td>2017</td>\n",
       "    </tr>\n",
       "    <tr>\n",
       "      <th>1</th>\n",
       "      <td>Eight years, five albums, and two EPs in, the ...</td>\n",
       "      <td>22721</td>\n",
       "      <td>prelapsarian</td>\n",
       "      <td>krallice</td>\n",
       "      <td>http://pitchfork.com/reviews/albums/22721-prel...</td>\n",
       "      <td>7.9</td>\n",
       "      <td>0</td>\n",
       "      <td>zoe camp</td>\n",
       "      <td>contributor</td>\n",
       "      <td>2017-01-07</td>\n",
       "      <td>5</td>\n",
       "      <td>7</td>\n",
       "      <td>1</td>\n",
       "      <td>2017</td>\n",
       "    </tr>\n",
       "  </tbody>\n",
       "</table>\n",
       "</div>"
      ],
      "text/plain": [
       "                                             content  reviewid         title  \\\n",
       "0  “Trip-hop” eventually became a ’90s punchline,...     22703     mezzanine   \n",
       "1  Eight years, five albums, and two EPs in, the ...     22721  prelapsarian   \n",
       "\n",
       "           artist                                                url  score  \\\n",
       "0  massive attack  http://pitchfork.com/reviews/albums/22703-mezz...    9.3   \n",
       "1        krallice  http://pitchfork.com/reviews/albums/22721-prel...    7.9   \n",
       "\n",
       "   best_new_music       author  author_type    pub_date  pub_weekday  pub_day  \\\n",
       "0               0  nate patrin  contributor  2017-01-08            6        8   \n",
       "1               0     zoe camp  contributor  2017-01-07            5        7   \n",
       "\n",
       "   pub_month  pub_year  \n",
       "0          1      2017  \n",
       "1          1      2017  "
      ]
     },
     "execution_count": 61,
     "metadata": {},
     "output_type": "execute_result"
    }
   ],
   "source": [
    "# grab content of the reviews\n",
    "df = read_sql(\"\"\" SELECT a.content, b.* FROM content a LEFT JOIN reviews b \"\"\"\n",
    "              \"\"\"on a.reviewid = b.reviewid \"\"\", con, coerce_float=True, params=None) \n",
    "df.head(2)"
   ]
  },
  {
   "cell_type": "code",
   "execution_count": 62,
   "metadata": {},
   "outputs": [],
   "source": [
    "df = df[['content','score', 'reviewid']]"
   ]
  },
  {
   "cell_type": "code",
   "execution_count": 65,
   "metadata": {},
   "outputs": [],
   "source": [
    "# import libraries, define path, batchsize and bptt\n",
    "import os\n",
    "from fastai.text import *\n",
    "path=os.getcwd()\n",
    "bs,bptt=40,60\n"
   ]
  },
  {
   "cell_type": "code",
   "execution_count": 66,
   "metadata": {},
   "outputs": [
    {
     "name": "stdout",
     "output_type": "stream",
     "text": [
      "CPU times: user 7.72 s, sys: 2.18 s, total: 9.9 s\n",
      "Wall time: 26.3 s\n"
     ]
    }
   ],
   "source": [
    "%%time\n",
    "from sklearn.model_selection import train_test_split\n",
    "train_df, val_df = train_test_split(df, test_size= 0.2, random_state= 42)\n",
    "\n",
    "data_lm = TextLMDataBunch.from_df( path, train_df = train_df, \n",
    "                                  valid_df = val_df, text_cols = ['content'], \n",
    "                                  label_cols = ['label'], bs= bs, bptt= bptt)"
   ]
  },
  {
   "cell_type": "code",
   "execution_count": 67,
   "metadata": {},
   "outputs": [],
   "source": [
    "data_lm.save('data_lm_pitchfork.pkl')"
   ]
  },
  {
   "cell_type": "code",
   "execution_count": 70,
   "metadata": {},
   "outputs": [],
   "source": [
    "data_lm = load_data(path, 'data_lm_pitchfork.pkl', bs=bs, bptt=bptt)"
   ]
  },
  {
   "cell_type": "code",
   "execution_count": 72,
   "metadata": {},
   "outputs": [],
   "source": [
    "learn_pitchfork = language_model_learner(data_lm, AWD_LSTM, drop_mult=0.5)\n"
   ]
  },
  {
   "cell_type": "code",
   "execution_count": null,
   "metadata": {},
   "outputs": [],
   "source": [
    "learn_pitchfork.lr_find()\n",
    "learn_pitchfork.recorder.plot(skip_end=15)\n"
   ]
  },
  {
   "cell_type": "code",
   "execution_count": 73,
   "metadata": {},
   "outputs": [
    {
     "data": {
      "text/html": [
       "<table border=\"1\" class=\"dataframe\">\n",
       "  <thead>\n",
       "    <tr style=\"text-align: left;\">\n",
       "      <th>epoch</th>\n",
       "      <th>train_loss</th>\n",
       "      <th>valid_loss</th>\n",
       "      <th>accuracy</th>\n",
       "      <th>time</th>\n",
       "    </tr>\n",
       "  </thead>\n",
       "  <tbody>\n",
       "    <tr>\n",
       "      <td>0</td>\n",
       "      <td>4.618757</td>\n",
       "      <td>4.442286</td>\n",
       "      <td>0.296847</td>\n",
       "      <td>17:06</td>\n",
       "    </tr>\n",
       "  </tbody>\n",
       "</table>"
      ],
      "text/plain": [
       "<IPython.core.display.HTML object>"
      ]
     },
     "metadata": {},
     "output_type": "display_data"
    }
   ],
   "source": [
    "#learn_pitchfork.fit_one_cycle(1, 1e-2/2, moms=(0.8,0.7))\n",
    "learn_pitchfork.fit_one_cycle(1, 2e-2/2, moms=(0.8,0.7), wd=0.1)\n"
   ]
  },
  {
   "cell_type": "code",
   "execution_count": 74,
   "metadata": {},
   "outputs": [],
   "source": [
    "learn_pitchfork.save(path+'/fit_head')\n"
   ]
  },
  {
   "cell_type": "code",
   "execution_count": 75,
   "metadata": {},
   "outputs": [
    {
     "name": "stdout",
     "output_type": "stream",
     "text": [
      "unfreeze model\n"
     ]
    }
   ],
   "source": [
    "print('unfreeze model')\n",
    "learn_pitchfork.unfreeze()"
   ]
  },
  {
   "cell_type": "code",
   "execution_count": null,
   "metadata": {},
   "outputs": [],
   "source": []
  },
  {
   "cell_type": "code",
   "execution_count": 76,
   "metadata": {},
   "outputs": [
    {
     "data": {
      "text/html": [
       "<table border=\"1\" class=\"dataframe\">\n",
       "  <thead>\n",
       "    <tr style=\"text-align: left;\">\n",
       "      <th>epoch</th>\n",
       "      <th>train_loss</th>\n",
       "      <th>valid_loss</th>\n",
       "      <th>accuracy</th>\n",
       "      <th>time</th>\n",
       "    </tr>\n",
       "  </thead>\n",
       "  <tbody>\n",
       "    <tr>\n",
       "      <td>0</td>\n",
       "      <td>4.329775</td>\n",
       "      <td>4.249726</td>\n",
       "      <td>0.315335</td>\n",
       "      <td>18:34</td>\n",
       "    </tr>\n",
       "    <tr>\n",
       "      <td>1</td>\n",
       "      <td>4.267435</td>\n",
       "      <td>4.192162</td>\n",
       "      <td>0.323707</td>\n",
       "      <td>19:00</td>\n",
       "    </tr>\n",
       "    <tr>\n",
       "      <td>2</td>\n",
       "      <td>4.291625</td>\n",
       "      <td>4.180893</td>\n",
       "      <td>0.326141</td>\n",
       "      <td>19:05</td>\n",
       "    </tr>\n",
       "    <tr>\n",
       "      <td>3</td>\n",
       "      <td>4.240601</td>\n",
       "      <td>4.156091</td>\n",
       "      <td>0.328409</td>\n",
       "      <td>18:44</td>\n",
       "    </tr>\n",
       "    <tr>\n",
       "      <td>4</td>\n",
       "      <td>4.209528</td>\n",
       "      <td>4.138834</td>\n",
       "      <td>0.331526</td>\n",
       "      <td>18:41</td>\n",
       "    </tr>\n",
       "    <tr>\n",
       "      <td>5</td>\n",
       "      <td>4.172590</td>\n",
       "      <td>4.115703</td>\n",
       "      <td>0.334366</td>\n",
       "      <td>18:42</td>\n",
       "    </tr>\n",
       "    <tr>\n",
       "      <td>6</td>\n",
       "      <td>4.094367</td>\n",
       "      <td>4.093990</td>\n",
       "      <td>0.337025</td>\n",
       "      <td>18:41</td>\n",
       "    </tr>\n",
       "    <tr>\n",
       "      <td>7</td>\n",
       "      <td>4.057703</td>\n",
       "      <td>4.073229</td>\n",
       "      <td>0.339719</td>\n",
       "      <td>18:42</td>\n",
       "    </tr>\n",
       "    <tr>\n",
       "      <td>8</td>\n",
       "      <td>4.029308</td>\n",
       "      <td>4.055165</td>\n",
       "      <td>0.342347</td>\n",
       "      <td>18:42</td>\n",
       "    </tr>\n",
       "    <tr>\n",
       "      <td>9</td>\n",
       "      <td>3.976991</td>\n",
       "      <td>4.040740</td>\n",
       "      <td>0.344423</td>\n",
       "      <td>18:42</td>\n",
       "    </tr>\n",
       "    <tr>\n",
       "      <td>10</td>\n",
       "      <td>3.926024</td>\n",
       "      <td>4.033634</td>\n",
       "      <td>0.345398</td>\n",
       "      <td>18:42</td>\n",
       "    </tr>\n",
       "    <tr>\n",
       "      <td>11</td>\n",
       "      <td>3.907341</td>\n",
       "      <td>4.032003</td>\n",
       "      <td>0.345692</td>\n",
       "      <td>18:42</td>\n",
       "    </tr>\n",
       "  </tbody>\n",
       "</table>"
      ],
      "text/plain": [
       "<IPython.core.display.HTML object>"
      ]
     },
     "metadata": {},
     "output_type": "display_data"
    }
   ],
   "source": [
    "#learn.fit_one_cycle(10, 2e-3, moms=(0.8,0.7), wd=0.1)\n",
    "learn_pitchfork.fit_one_cycle(12, 2e-3/3, moms=(0.8,0.7), wd= 0.1)"
   ]
  },
  {
   "cell_type": "code",
   "execution_count": 77,
   "metadata": {},
   "outputs": [],
   "source": [
    "learn_pitchfork.save(path+'/fine_tuned')\n",
    "learn_pitchfork.save_encoder(path+'/fine_tuned_enc')"
   ]
  },
  {
   "cell_type": "code",
   "execution_count": 78,
   "metadata": {},
   "outputs": [],
   "source": [
    "learn_pitchfork.export(path+'lang_model_pitch.pkl')"
   ]
  },
  {
   "cell_type": "code",
   "execution_count": 79,
   "metadata": {},
   "outputs": [],
   "source": [
    "# save vocabulary\n",
    "with open(path+'/itos.pkl', 'wb') as f:\n",
    "    pickle.dump(data_lm.vocab.itos, f)"
   ]
  }
 ],
 "metadata": {
  "kernelspec": {
   "display_name": "Python 3",
   "language": "python",
   "name": "python3"
  },
  "language_info": {
   "codemirror_mode": {
    "name": "ipython",
    "version": 3
   },
   "file_extension": ".py",
   "mimetype": "text/x-python",
   "name": "python",
   "nbconvert_exporter": "python",
   "pygments_lexer": "ipython3",
   "version": "3.6.7"
  }
 },
 "nbformat": 4,
 "nbformat_minor": 2
}
