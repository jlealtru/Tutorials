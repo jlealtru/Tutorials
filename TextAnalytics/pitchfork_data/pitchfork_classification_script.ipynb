{
 "cells": [
  {
   "cell_type": "code",
   "execution_count": 1,
   "metadata": {},
   "outputs": [],
   "source": [
    "import sqlite3 as lite\n",
    "import pandas as pd\n",
    "import numpy as np\n",
    "from pandas.io.sql import read_sql\n"
   ]
  },
  {
   "cell_type": "code",
   "execution_count": 2,
   "metadata": {},
   "outputs": [],
   "source": [
    "import os\n",
    "from fastai.text import *\n",
    "bs=16"
   ]
  },
  {
   "cell_type": "code",
   "execution_count": 3,
   "metadata": {},
   "outputs": [
    {
     "name": "stdout",
     "output_type": "stream",
     "text": [
      "/media/jlealtru/data_files/github/Tutorials/TextAnalytics/pitchfork_data\n"
     ]
    }
   ],
   "source": [
    "print(os.getcwd())\n",
    "path='/media/jlealtru/data_files/github/Tutorials/TextAnalytics/pitchfork_data'"
   ]
  },
  {
   "cell_type": "code",
   "execution_count": 4,
   "metadata": {},
   "outputs": [],
   "source": [
    "# load data bunch\n",
    "data_lm = load_data(path, 'data_lm_pitchfork.pkl', bs=bs)"
   ]
  },
  {
   "cell_type": "code",
   "execution_count": 5,
   "metadata": {},
   "outputs": [
    {
     "name": "stdout",
     "output_type": "stream",
     "text": [
      "18401\n"
     ]
    },
    {
     "data": {
      "text/html": [
       "<div>\n",
       "<style scoped>\n",
       "    .dataframe tbody tr th:only-of-type {\n",
       "        vertical-align: middle;\n",
       "    }\n",
       "\n",
       "    .dataframe tbody tr th {\n",
       "        vertical-align: top;\n",
       "    }\n",
       "\n",
       "    .dataframe thead th {\n",
       "        text-align: right;\n",
       "    }\n",
       "</style>\n",
       "<table border=\"1\" class=\"dataframe\">\n",
       "  <thead>\n",
       "    <tr style=\"text-align: right;\">\n",
       "      <th></th>\n",
       "      <th>content</th>\n",
       "      <th>score</th>\n",
       "      <th>reviewid</th>\n",
       "      <th>label</th>\n",
       "    </tr>\n",
       "  </thead>\n",
       "  <tbody>\n",
       "    <tr>\n",
       "      <th>0</th>\n",
       "      <td>“Trip-hop” eventually became a ’90s punchline,...</td>\n",
       "      <td>9.3</td>\n",
       "      <td>22703</td>\n",
       "      <td>good</td>\n",
       "    </tr>\n",
       "  </tbody>\n",
       "</table>\n",
       "</div>"
      ],
      "text/plain": [
       "                                             content  score  reviewid label\n",
       "0  “Trip-hop” eventually became a ’90s punchline,...    9.3     22703  good"
      ]
     },
     "execution_count": 5,
     "metadata": {},
     "output_type": "execute_result"
    }
   ],
   "source": [
    "# connect to data\n",
    "\n",
    "con = lite.connect('database.sqlite')\n",
    "df = read_sql(\"\"\" SELECT a.content, b.* FROM content a LEFT JOIN reviews b \"\"\"\n",
    "              \"\"\"on a.reviewid = b.reviewid \"\"\", con, coerce_float=True, params=None) \n",
    "\n",
    "# subset data\n",
    "df = df[['content','score', 'reviewid']]\n",
    "#df= df.iloc[0:10000]\n",
    "print (len(df))\n",
    "\n",
    "# create labels good, average and bad. \n",
    "#df['label'] = np.where(df['score']>=7.5,'good','bad')\n",
    "df['label'] = np.where(df['score']>=8,'good',\n",
    "                       (np.where(df['score']<6, 'low', 'medium')))\n",
    "df.head(1)"
   ]
  },
  {
   "cell_type": "code",
   "execution_count": 6,
   "metadata": {},
   "outputs": [
    {
     "data": {
      "text/html": [
       "<div>\n",
       "<style scoped>\n",
       "    .dataframe tbody tr th:only-of-type {\n",
       "        vertical-align: middle;\n",
       "    }\n",
       "\n",
       "    .dataframe tbody tr th {\n",
       "        vertical-align: top;\n",
       "    }\n",
       "\n",
       "    .dataframe thead th {\n",
       "        text-align: right;\n",
       "    }\n",
       "</style>\n",
       "<table border=\"1\" class=\"dataframe\">\n",
       "  <thead>\n",
       "    <tr style=\"text-align: right;\">\n",
       "      <th></th>\n",
       "      <th>content</th>\n",
       "      <th>score</th>\n",
       "      <th>reviewid</th>\n",
       "    </tr>\n",
       "    <tr>\n",
       "      <th>label</th>\n",
       "      <th></th>\n",
       "      <th></th>\n",
       "      <th></th>\n",
       "    </tr>\n",
       "  </thead>\n",
       "  <tbody>\n",
       "    <tr>\n",
       "      <th>good</th>\n",
       "      <td>3829</td>\n",
       "      <td>3829</td>\n",
       "      <td>3829</td>\n",
       "    </tr>\n",
       "    <tr>\n",
       "      <th>low</th>\n",
       "      <td>3004</td>\n",
       "      <td>3004</td>\n",
       "      <td>3004</td>\n",
       "    </tr>\n",
       "    <tr>\n",
       "      <th>medium</th>\n",
       "      <td>11568</td>\n",
       "      <td>11568</td>\n",
       "      <td>11568</td>\n",
       "    </tr>\n",
       "  </tbody>\n",
       "</table>\n",
       "</div>"
      ],
      "text/plain": [
       "        content  score  reviewid\n",
       "label                           \n",
       "good       3829   3829      3829\n",
       "low        3004   3004      3004\n",
       "medium    11568  11568     11568"
      ]
     },
     "execution_count": 6,
     "metadata": {},
     "output_type": "execute_result"
    }
   ],
   "source": [
    "df.groupby('label').count()"
   ]
  },
  {
   "cell_type": "code",
   "execution_count": 7,
   "metadata": {},
   "outputs": [],
   "source": [
    "# split the dataframe \n",
    "from sklearn.model_selection import train_test_split\n",
    "train_df, val_df = train_test_split(df, test_size=0.2, random_state=42, stratify = df['label'])"
   ]
  },
  {
   "cell_type": "code",
   "execution_count": 8,
   "metadata": {},
   "outputs": [],
   "source": [
    "data_classification = TextClasDataBunch.from_df(path=\".\", train_df=train_df, valid_df=val_df,\n",
    "                                            vocab= data_lm.vocab,\n",
    "                                            text_cols=\"content\", \n",
    "                                            label_cols=\"label\", \n",
    "                                            bs=bs)\n",
    "\n",
    "data_classification.save(path+'/data_clas_pitch.pkl')"
   ]
  },
  {
   "cell_type": "code",
   "execution_count": null,
   "metadata": {},
   "outputs": [],
   "source": [
    "#data_classification.save(path+'/data_clas_pitch.pkl')"
   ]
  },
  {
   "cell_type": "code",
   "execution_count": 9,
   "metadata": {},
   "outputs": [],
   "source": [
    "# calculate weights for imbalanded class\n",
    "trn_labelcounts = train_df.groupby([\"label\"]).size()\n",
    "val_labelcounts = val_df.groupby([\"label\"]).size()\n",
    "trn_label_sum = len(train_df[\"label\"])\n",
    "val_label_sum = len(val_df[\"label\"])\n",
    "trn_weights = [count/trn_label_sum for count in trn_labelcounts]\n",
    "val_weights = [count/val_label_sum for count in val_labelcounts]\n",
    "trn_weights, val_weights\n",
    "rtd_val_weights = [max(val_weights)/value for value in val_weights]\n",
    "rtd_val_weights = torch.FloatTensor(rtd_val_weights).cuda()"
   ]
  },
  {
   "cell_type": "code",
   "execution_count": 10,
   "metadata": {},
   "outputs": [
    {
     "data": {
      "text/plain": [
       "tensor([3.0209, 3.8502, 1.0000], device='cuda:0')"
      ]
     },
     "execution_count": 10,
     "metadata": {},
     "output_type": "execute_result"
    }
   ],
   "source": [
    "rtd_val_weights"
   ]
  },
  {
   "cell_type": "code",
   "execution_count": 11,
   "metadata": {},
   "outputs": [],
   "source": [
    "learn_classifier = text_classifier_learner(data_classification, AWD_LSTM, drop_mult=0.4, pretrained=False)\n",
    "learn_classifier.load_encoder(path+'/fine_tuned_enc')"
   ]
  },
  {
   "cell_type": "code",
   "execution_count": 12,
   "metadata": {},
   "outputs": [
    {
     "name": "stdout",
     "output_type": "stream",
     "text": [
      "about to start\n"
     ]
    }
   ],
   "source": [
    "# add new loss function and metric\n",
    "learn_classifier.loss_func = nn.CrossEntropyLoss(weight=rtd_val_weights)\n",
    "#learn_classifier = learn_classifier.to_distributed(args.local_rank)\n",
    "print('about to start')\n",
    "learn_classifier.metrics = [accuracy,\n",
    "                            Precision(),\n",
    "                            Recall(),\n",
    "                            FBeta(average='weighted')]"
   ]
  },
  {
   "cell_type": "code",
   "execution_count": 13,
   "metadata": {},
   "outputs": [
    {
     "data": {
      "text/html": [
       "<table border=\"1\" class=\"dataframe\">\n",
       "  <thead>\n",
       "    <tr style=\"text-align: left;\">\n",
       "      <th>epoch</th>\n",
       "      <th>train_loss</th>\n",
       "      <th>valid_loss</th>\n",
       "      <th>accuracy</th>\n",
       "      <th>precision</th>\n",
       "      <th>recall</th>\n",
       "      <th>f_beta</th>\n",
       "      <th>time</th>\n",
       "    </tr>\n",
       "  </thead>\n",
       "  <tbody>\n",
       "    <tr>\n",
       "      <td>0</td>\n",
       "      <td>0.867933</td>\n",
       "      <td>0.872609</td>\n",
       "      <td>0.574572</td>\n",
       "      <td>0.549372</td>\n",
       "      <td>0.617589</td>\n",
       "      <td>0.572864</td>\n",
       "      <td>16:17</td>\n",
       "    </tr>\n",
       "  </tbody>\n",
       "</table>"
      ],
      "text/plain": [
       "<IPython.core.display.HTML object>"
      ]
     },
     "metadata": {},
     "output_type": "display_data"
    },
    {
     "name": "stderr",
     "output_type": "stream",
     "text": [
      "/home/jlealtru/anaconda3/envs/pytorch/lib/python3.6/site-packages/fastai/metrics.py:186: UserWarning: average=`binary` was selected for a non binary case. Value for average has now been set to `macro` instead.\n",
      "  warn(\"average=`binary` was selected for a non binary case. Value for average has now been set to `macro` instead.\")\n"
     ]
    }
   ],
   "source": [
    "# fit one cycle\n",
    "lr = 1e-1\n",
    "\n",
    "learn_classifier.fit_one_cycle(1,lr/2, moms=(0.8,0.7))"
   ]
  },
  {
   "cell_type": "code",
   "execution_count": 14,
   "metadata": {},
   "outputs": [
    {
     "data": {
      "text/html": [
       "<table border=\"1\" class=\"dataframe\">\n",
       "  <thead>\n",
       "    <tr style=\"text-align: left;\">\n",
       "      <th>epoch</th>\n",
       "      <th>train_loss</th>\n",
       "      <th>valid_loss</th>\n",
       "      <th>accuracy</th>\n",
       "      <th>precision</th>\n",
       "      <th>recall</th>\n",
       "      <th>f_beta</th>\n",
       "      <th>time</th>\n",
       "    </tr>\n",
       "  </thead>\n",
       "  <tbody>\n",
       "    <tr>\n",
       "      <td>0</td>\n",
       "      <td>0.854841</td>\n",
       "      <td>4.379245</td>\n",
       "      <td>0.623744</td>\n",
       "      <td>0.582229</td>\n",
       "      <td>0.661506</td>\n",
       "      <td>0.622261</td>\n",
       "      <td>17:12</td>\n",
       "    </tr>\n",
       "  </tbody>\n",
       "</table>"
      ],
      "text/plain": [
       "<IPython.core.display.HTML object>"
      ]
     },
     "metadata": {},
     "output_type": "display_data"
    }
   ],
   "source": [
    "learn_classifier.freeze_to(-2)\n",
    "lr /= 2\n",
    "learn_classifier.fit_one_cycle(1, slice(lr/(2.6**4),lr), moms=(0.8,0.7))\n",
    "#learn_classifier.fit_one_cycle(2, slice(1e-4/2,1e-2/2), moms=(0.8,0.7))"
   ]
  },
  {
   "cell_type": "code",
   "execution_count": 15,
   "metadata": {},
   "outputs": [
    {
     "data": {
      "text/html": [
       "<table border=\"1\" class=\"dataframe\">\n",
       "  <thead>\n",
       "    <tr style=\"text-align: left;\">\n",
       "      <th>epoch</th>\n",
       "      <th>train_loss</th>\n",
       "      <th>valid_loss</th>\n",
       "      <th>accuracy</th>\n",
       "      <th>precision</th>\n",
       "      <th>recall</th>\n",
       "      <th>f_beta</th>\n",
       "      <th>time</th>\n",
       "    </tr>\n",
       "  </thead>\n",
       "  <tbody>\n",
       "    <tr>\n",
       "      <td>0</td>\n",
       "      <td>0.961439</td>\n",
       "      <td>0.984511</td>\n",
       "      <td>0.472698</td>\n",
       "      <td>0.467550</td>\n",
       "      <td>0.557565</td>\n",
       "      <td>0.463510</td>\n",
       "      <td>20:26</td>\n",
       "    </tr>\n",
       "  </tbody>\n",
       "</table>"
      ],
      "text/plain": [
       "<IPython.core.display.HTML object>"
      ]
     },
     "metadata": {},
     "output_type": "display_data"
    }
   ],
   "source": [
    "learn_classifier.freeze_to(-3)\n",
    "lr /= 2\n",
    "learn_classifier.fit_one_cycle(1, slice(lr/(2.6**4),lr), moms=(0.8,0.7))\n",
    "#learn_classifier.fit_one_cycle(1, slice(5e-3/(2.6**4),5e-3), moms=(0.8,0.7))"
   ]
  },
  {
   "cell_type": "code",
   "execution_count": 16,
   "metadata": {},
   "outputs": [
    {
     "data": {
      "text/html": [
       "<table border=\"1\" class=\"dataframe\">\n",
       "  <thead>\n",
       "    <tr style=\"text-align: left;\">\n",
       "      <th>epoch</th>\n",
       "      <th>train_loss</th>\n",
       "      <th>valid_loss</th>\n",
       "      <th>accuracy</th>\n",
       "      <th>precision</th>\n",
       "      <th>recall</th>\n",
       "      <th>f_beta</th>\n",
       "      <th>time</th>\n",
       "    </tr>\n",
       "  </thead>\n",
       "  <tbody>\n",
       "    <tr>\n",
       "      <td>0</td>\n",
       "      <td>0.845182</td>\n",
       "      <td>1.181797</td>\n",
       "      <td>0.372453</td>\n",
       "      <td>0.535196</td>\n",
       "      <td>0.513299</td>\n",
       "      <td>0.330480</td>\n",
       "      <td>23:33</td>\n",
       "    </tr>\n",
       "    <tr>\n",
       "      <td>1</td>\n",
       "      <td>0.773269</td>\n",
       "      <td>1.461936</td>\n",
       "      <td>0.630807</td>\n",
       "      <td>0.591452</td>\n",
       "      <td>0.596395</td>\n",
       "      <td>0.632457</td>\n",
       "      <td>23:34</td>\n",
       "    </tr>\n",
       "    <tr>\n",
       "      <td>2</td>\n",
       "      <td>0.537712</td>\n",
       "      <td>1.297095</td>\n",
       "      <td>0.608530</td>\n",
       "      <td>0.563133</td>\n",
       "      <td>0.626462</td>\n",
       "      <td>0.608507</td>\n",
       "      <td>23:36</td>\n",
       "    </tr>\n",
       "  </tbody>\n",
       "</table>"
      ],
      "text/plain": [
       "<IPython.core.display.HTML object>"
      ]
     },
     "metadata": {},
     "output_type": "display_data"
    }
   ],
   "source": [
    "learn_classifier.unfreeze()\n",
    "lr /= 2\n",
    "learn_classifier.fit_one_cycle(3, slice(lr/(2.6**4),lr), moms=(0.8,0.7))\n",
    "#learn_classifier.fit_one_cycle(2, slice(1e-3/(2.6**4),1e-3), moms=(0.8,0.7))"
   ]
  },
  {
   "cell_type": "code",
   "execution_count": null,
   "metadata": {},
   "outputs": [],
   "source": [
    "learn_classifier.save('/content/gdrive/My Drive/nlp_models/pitch_classifier_tuned')\n",
    "learn_classifier.export(path+'/'+'export_classifier_pitch.pkl')"
   ]
  },
  {
   "cell_type": "code",
   "execution_count": null,
   "metadata": {},
   "outputs": [],
   "source": [
    "from fastai.vision import *\n",
    "preds, y, losses = learn_classifier.get_preds(with_loss= True)\n",
    "interp = ClassificationInterpretation(learn_classifier, preds, y, losses)\n",
    "interp.plot_confusion_matrix()\n",
    "data_classification.save(path+'/confusion.pkl')"
   ]
  },
  {
   "cell_type": "code",
   "execution_count": null,
   "metadata": {},
   "outputs": [],
   "source": []
  }
 ],
 "metadata": {
  "kernelspec": {
   "display_name": "Python 3",
   "language": "python",
   "name": "python3"
  },
  "language_info": {
   "codemirror_mode": {
    "name": "ipython",
    "version": 3
   },
   "file_extension": ".py",
   "mimetype": "text/x-python",
   "name": "python",
   "nbconvert_exporter": "python",
   "pygments_lexer": "ipython3",
   "version": "3.6.7"
  }
 },
 "nbformat": 4,
 "nbformat_minor": 2
}
